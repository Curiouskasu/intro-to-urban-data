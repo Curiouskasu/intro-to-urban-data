{
 "cells": [
  {
   "cell_type": "markdown",
   "metadata": {
    "colab_type": "text",
    "id": "view-in-github"
   },
   "source": [
    "<a href=\"https://colab.research.google.com/github/brian-ho/intro-to-urban-data/blob/main/Measure/M03_Basic_Python_and_data_structures.ipynb\" target=\"_parent\"><img src=\"https://colab.research.google.com/assets/colab-badge.svg\" alt=\"Open In Colab\"/></a>"
   ]
  },
  {
   "cell_type": "markdown",
   "metadata": {
    "id": "EsfENlDG71Gv"
   },
   "source": [
    "# **03 Measure** Basic Python and Data Structures\n",
    "\n",
    "```\n",
    "    Class       ARCH 6131 Urban Design Methods / Skills / Tools 1\n",
    "                The Gensler Family AAP NYC Center\n",
    "                Fall 2024\n",
    "                Monday 3:30 PM to 6 PM\n",
    "\n",
    "    Instructor  Brian Ho\n",
    "                brian@brian-ho.io\n",
    "```\n",
    "\n",
    "This notebook illustrates some basic ways to work with data in Python using built-in data structures. By and large, these are the main Python programming concepts you will need this semester:\n",
    "\n",
    "- Variables\n",
    "- Operators\n",
    "- Lists\n",
    "- Dictionaries\n",
    "- Loops\n",
    "- Conditionals\n",
    "- Functions\n",
    "\n",
    "This is meant to demonstrate key principles. For more comprehensive instructions please check out:\n",
    "- The official [Python 3 reference guide on data structures](https://docs.python.org/3/tutorial/datastructures.html)\n",
    "- The [introduction to Python’s built-in classes](https://cvw.cac.cornell.edu/python-intro/objects-and-oop/introduction) from the Cornell Virtual Workshop"
   ]
  },
  {
   "cell_type": "markdown",
   "metadata": {
    "id": "ZG3T2QMnQcUc"
   },
   "source": [
    "## Variables\n",
    "Variables are names that reference objects and data. In Python, variables are _assigned_ a value — and can generally be reassigned to any new value. You can assign a value to Python using the `=` operator:\n",
    "\n",
    "```\n",
    "variable_name = <value_to_assign>\n",
    "```\n",
    "\n",
    "Here are a few examples of variables for numbers. These support the mathematical operators you might expect: addition, subtraction, multiplication, division, etc ..."
   ]
  },
  {
   "cell_type": "code",
   "execution_count": 2,
   "metadata": {
    "colab": {
     "base_uri": "https://localhost:8080/"
    },
    "id": "JvMxo__n7rd1",
    "outputId": "0275a093-6e62-40ab-fa96-e0f961ebc014"
   },
   "outputs": [
    {
     "name": "stdout",
     "output_type": "stream",
     "text": [
      "a = 0\n",
      "b = 1\n",
      "c = 1\n"
     ]
    }
   ],
   "source": [
    "# A variable can be an integer and operations performed on integers\n",
    "a = 0\n",
    "b = 1\n",
    "c = a + b\n",
    "print(f\"a = {a}\")\n",
    "print(f\"b = {b}\")\n",
    "print(f\"c = {c}\")"
   ]
  },
  {
   "cell_type": "code",
   "execution_count": 3,
   "metadata": {},
   "outputs": [
    {
     "name": "stdout",
     "output_type": "stream",
     "text": [
      "d = 2.5\n",
      "e = 100.0\n",
      "f = 250.0\n"
     ]
    }
   ],
   "source": [
    "# A variable can also be a float — a decimal value\n",
    "d = 2.5\n",
    "e = 1e2\n",
    "f = d * e\n",
    "print(f\"d = {d}\")\n",
    "print(f\"e = {e}\")\n",
    "print(f\"f = {f}\")"
   ]
  },
  {
   "cell_type": "markdown",
   "metadata": {
    "id": "9H8EsOqIRkPZ"
   },
   "source": [
    "Variables can also be text, referred to as strings. Notice that strings can have operators — in this case, you can add two strings together."
   ]
  },
  {
   "cell_type": "code",
   "execution_count": 4,
   "metadata": {
    "colab": {
     "base_uri": "https://localhost:8080/"
    },
    "id": "QiC1H3XrRM2h",
    "outputId": "4e2f063e-fec5-4e47-d079-77bcd365489e"
   },
   "outputs": [
    {
     "name": "stdout",
     "output_type": "stream",
     "text": [
      "Here's a string!\n"
     ]
    }
   ],
   "source": [
    "# A variable can be a string: one or more characters\n",
    "x = \"Here's a string\"\n",
    "y = \"!\"\n",
    "z = x + y\n",
    "print(z)"
   ]
  },
  {
   "cell_type": "markdown",
   "metadata": {
    "id": "rua4tmnpaDMN"
   },
   "source": [
    "## Operators\n",
    "You may have noticed that above we use operators to combine or otherwise work with variable. Generally, these do what we expect like basic addition, subtraction, multiplication, and division."
   ]
  },
  {
   "cell_type": "code",
   "execution_count": 5,
   "metadata": {
    "colab": {
     "base_uri": "https://localhost:8080/"
    },
    "id": "qmJxcrYqaNR5",
    "outputId": "3f556fb6-e209-47a4-fd5e-f3a80a3e4ec9"
   },
   "outputs": [
    {
     "name": "stdout",
     "output_type": "stream",
     "text": [
      "2\n",
      "20.0\n"
     ]
    }
   ],
   "source": [
    "print(1 + 1)\n",
    "print(200 / 10)"
   ]
  },
  {
   "cell_type": "markdown",
   "metadata": {
    "id": "3uPZZoBbTADB"
   },
   "source": [
    "There are some operators that you may be less familiar with. Comparison operators will return a logical value of `True` or `False`, known as a boolean."
   ]
  },
  {
   "cell_type": "code",
   "execution_count": 7,
   "metadata": {
    "colab": {
     "base_uri": "https://localhost:8080/"
    },
    "id": "TiFnWJ0WZ5Hv",
    "outputId": "d3b755e5-f020-4d88-de3e-19aa6c1d2b98"
   },
   "outputs": [
    {
     "data": {
      "text/plain": [
       "False"
      ]
     },
     "execution_count": 7,
     "metadata": {},
     "output_type": "execute_result"
    }
   ],
   "source": [
    "# The >, <, >=, <= check if values are smaller or larger.\n",
    "# Try changing the operator or values and see what happens!\n",
    "10 > 200"
   ]
  },
  {
   "cell_type": "code",
   "execution_count": 8,
   "metadata": {
    "colab": {
     "base_uri": "https://localhost:8080/"
    },
    "id": "GAX3SNmBTGZU",
    "outputId": "fc30f2d6-f716-44a3-d86e-6689a9e66df4"
   },
   "outputs": [
    {
     "data": {
      "text/plain": [
       "True"
      ]
     },
     "execution_count": 8,
     "metadata": {},
     "output_type": "execute_result"
    }
   ],
   "source": [
    "# The == checks if two values are the same\n",
    "100 == 20 * 5"
   ]
  },
  {
   "cell_type": "code",
   "execution_count": 9,
   "metadata": {
    "colab": {
     "base_uri": "https://localhost:8080/"
    },
    "id": "XMXq4BWGTM_O",
    "outputId": "177b767d-0999-4298-e7f5-f39cd5bf4161"
   },
   "outputs": [
    {
     "data": {
      "text/plain": [
       "False"
      ]
     },
     "execution_count": 9,
     "metadata": {},
     "output_type": "execute_result"
    }
   ],
   "source": [
    "# The != checks if two values are not the same\n",
    "# In this case\n",
    "2 != 1 + 1"
   ]
  },
  {
   "cell_type": "markdown",
   "metadata": {},
   "source": [
    "Other operators simplify basic addition and subtraction."
   ]
  },
  {
   "cell_type": "code",
   "execution_count": 10,
   "metadata": {
    "colab": {
     "base_uri": "https://localhost:8080/"
    },
    "id": "6cwKaeTQTX2e",
    "outputId": "9d6270d4-5202-4e9b-acab-00a915305a1d"
   },
   "outputs": [
    {
     "name": "stdout",
     "output_type": "stream",
     "text": [
      "110\n"
     ]
    }
   ],
   "source": [
    "# The += and -= let you increment or decrement from a variable and re-assign in one go.\n",
    "# Let's create a variable\n",
    "a = 100\n",
    "# This is the same as doing: a = a + 10\n",
    "a += 10\n",
    "print(a)"
   ]
  },
  {
   "cell_type": "code",
   "execution_count": 11,
   "metadata": {},
   "outputs": [
    {
     "name": "stdout",
     "output_type": "stream",
     "text": [
      "0\n"
     ]
    }
   ],
   "source": [
    "# What do you think the value of b will be?\n",
    "b = 100\n",
    "b -= 100\n",
    "print(b)"
   ]
  },
  {
   "cell_type": "code",
   "execution_count": 12,
   "metadata": {
    "id": "ZyY2xAUKUHXi"
   },
   "outputs": [
    {
     "name": "stdout",
     "output_type": "stream",
     "text": [
      "4\n"
     ]
    }
   ],
   "source": [
    "# The *= and /= operators do the same for multiplication and division\n",
    "c = 1\n",
    "c *= 4\n",
    "print(c)"
   ]
  },
  {
   "cell_type": "code",
   "execution_count": 13,
   "metadata": {},
   "outputs": [
    {
     "name": "stdout",
     "output_type": "stream",
     "text": [
      "1.0\n"
     ]
    }
   ],
   "source": [
    "d = -2\n",
    "d /= -2\n",
    "print(d)"
   ]
  },
  {
   "cell_type": "markdown",
   "metadata": {
    "id": "661DBaNGSgYz"
   },
   "source": [
    "Try playing around further with variables and operators in a new cell below!"
   ]
  },
  {
   "cell_type": "markdown",
   "metadata": {
    "id": "oSdfYvINSJza"
   },
   "source": [
    "## Lists\n",
    "A list (or array) is a common data structure for multiple objects. You can distinguish a list when you see the square brackets `[]` with items separated by commas. You may also see lists created with the `list()` constructor.\n",
    "\n",
    "Lists are ordered, and you can add, remove, and iterate with a list."
   ]
  },
  {
   "cell_type": "code",
   "execution_count": 15,
   "metadata": {
    "colab": {
     "base_uri": "https://localhost:8080/"
    },
    "id": "70Xtxv9pRxkP",
    "outputId": "33f46565-d0d6-48d9-a887-f0892f4c3ac7"
   },
   "outputs": [
    {
     "name": "stdout",
     "output_type": "stream",
     "text": [
      "[1, 2, 3, 4, 5]\n"
     ]
    }
   ],
   "source": [
    "# A basic list of numbers\n",
    "a_example_list = [1, 2, 3, 4, 5]\n",
    "print(a_example_list)"
   ]
  },
  {
   "cell_type": "markdown",
   "metadata": {
    "id": "T7BQoKl7V-Mt"
   },
   "source": [
    "You can access any of the items using its index (position in the list) and square bracket notation `[]`. A key concept to remember is that Python (and much of programming and computer science) starts counting from zero. This is known as a zero-based numbering."
   ]
  },
  {
   "cell_type": "code",
   "execution_count": 16,
   "metadata": {
    "colab": {
     "base_uri": "https://localhost:8080/"
    },
    "id": "9gnP43O-UTVv",
    "outputId": "dc16a8b8-1513-433a-e8b0-e92d36f5acbe"
   },
   "outputs": [
    {
     "data": {
      "text/plain": [
       "1"
      ]
     },
     "execution_count": 16,
     "metadata": {},
     "output_type": "execute_result"
    }
   ],
   "source": [
    "# You can access specific items in a list using an index\n",
    "# Python is zero-based, and zero is the first item\n",
    "a_example_list[0]"
   ]
  },
  {
   "cell_type": "code",
   "execution_count": 17,
   "metadata": {
    "colab": {
     "base_uri": "https://localhost:8080/"
    },
    "id": "6j7_560uUyTG",
    "outputId": "de18b291-ef25-4db7-be32-88a0bcf0b16f"
   },
   "outputs": [
    {
     "data": {
      "text/plain": [
       "[4, 5]"
      ]
     },
     "execution_count": 17,
     "metadata": {},
     "output_type": "execute_result"
    }
   ],
   "source": [
    "# You can use a colon to get a range within a list\n",
    "# This gets everything from index 3 (the fourth item) onwards:\n",
    "a_example_list[3:]"
   ]
  },
  {
   "cell_type": "markdown",
   "metadata": {
    "id": "W5i4oHGtWQpX"
   },
   "source": [
    "Lists are _mutable_ meaning they can be changed and edited. You can start with an empty  list and add to it using `append()`. This is a method on the list object: a function that belongs to it."
   ]
  },
  {
   "cell_type": "code",
   "execution_count": 18,
   "metadata": {
    "id": "S5_OFHfyS6NH"
   },
   "outputs": [
    {
     "data": {
      "text/plain": [
       "['a value']"
      ]
     },
     "execution_count": 18,
     "metadata": {},
     "output_type": "execute_result"
    }
   ],
   "source": [
    "# You can have empty lists!\n",
    "an_empty_list = []\n",
    "# You can add an item to the end of list!\n",
    "an_empty_list.append(\"a value\")\n",
    "an_empty_list"
   ]
  },
  {
   "cell_type": "code",
   "execution_count": 19,
   "metadata": {
    "id": "j_YQ6mbHWreq"
   },
   "outputs": [
    {
     "data": {
      "text/plain": [
       "['a value', 1, 2, 3, 4, 5]"
      ]
     },
     "execution_count": 19,
     "metadata": {},
     "output_type": "execute_result"
    }
   ],
   "source": [
    "# You can add lists together\n",
    "a_longer_list = an_empty_list + a_example_list\n",
    "a_longer_list"
   ]
  },
  {
   "cell_type": "code",
   "execution_count": 21,
   "metadata": {
    "colab": {
     "base_uri": "https://localhost:8080/"
    },
    "id": "QP_NGkqxU-zj",
    "outputId": "0f8f64be-ceb4-45f9-bac1-b43fa3bb2d61"
   },
   "outputs": [
    {
     "data": {
      "text/plain": [
       "[10, 2, 3, 4, 5]"
      ]
     },
     "execution_count": 21,
     "metadata": {},
     "output_type": "execute_result"
    }
   ],
   "source": [
    "# And you can reassign to a specific item in a list\n",
    "a_example_list[0] = 10\n",
    "a_example_list"
   ]
  },
  {
   "cell_type": "markdown",
   "metadata": {},
   "source": [
    "You can get the number of items in a list with the `len()` function:"
   ]
  },
  {
   "cell_type": "code",
   "execution_count": 39,
   "metadata": {},
   "outputs": [
    {
     "name": "stdout",
     "output_type": "stream",
     "text": [
      "List has 6 items\n"
     ]
    }
   ],
   "source": [
    "print(f\"List has {len(a_longer_list)} items\")"
   ]
  },
  {
   "cell_type": "markdown",
   "metadata": {},
   "source": [
    "Try playing around further with lists in a new cell below!"
   ]
  },
  {
   "cell_type": "markdown",
   "metadata": {
    "id": "8okWEIF8Ujmd"
   },
   "source": [
    "## Dictionaries\n",
    "Dictionaries are a set of key-value pairs. Each `key` uniquely identifies a `value` or other data structure. You can recognize a dictionary when you see squiggly brackets `{}` and keys and values defined with a colon.\n",
    "\n",
    "Dictionaries are useful when you need to organize data. Imagine you want to record data about a building's height, number of floors, and address!"
   ]
  },
  {
   "cell_type": "code",
   "execution_count": 22,
   "metadata": {
    "colab": {
     "base_uri": "https://localhost:8080/"
    },
    "id": "D1rMXfxgUSHe",
    "outputId": "da6a5fe4-cf62-4691-8508-75468872c94b"
   },
   "outputs": [
    {
     "name": "stdout",
     "output_type": "stream",
     "text": [
      "Here's some data about a building: {'height': 100, 'number_of_floors': 2, 'address': '123 Main Street'}\n"
     ]
    }
   ],
   "source": [
    "# A simple dictionary that holds information about a building\n",
    "building = {\"height\": 100, \"number_of_floors\": 2, \"address\": \"123 Main Street\"}\n",
    "print(f\"Here's some data about a building: {building}\")"
   ]
  },
  {
   "cell_type": "markdown",
   "metadata": {
    "id": "5kKL_HBkVz0E"
   },
   "source": [
    "You'll be able to access a specific `value` in a dictionary using the corresponding `key` with square bracket notation `[]`."
   ]
  },
  {
   "cell_type": "code",
   "execution_count": 23,
   "metadata": {
    "colab": {
     "base_uri": "https://localhost:8080/"
    },
    "id": "l-rGFg2NVead",
    "outputId": "be31812f-2191-4520-ce18-17c8b3b21175"
   },
   "outputs": [
    {
     "data": {
      "text/plain": [
       "100"
      ]
     },
     "execution_count": 23,
     "metadata": {},
     "output_type": "execute_result"
    }
   ],
   "source": [
    "# Get a value from a dictionary by its key\n",
    "building[\"height\"]"
   ]
  },
  {
   "cell_type": "markdown",
   "metadata": {
    "id": "GwNhH7veWvM9"
   },
   "source": [
    "And, like with lists, you can start an empty dictionary and add to it."
   ]
  },
  {
   "cell_type": "code",
   "execution_count": 24,
   "metadata": {
    "colab": {
     "base_uri": "https://localhost:8080/"
    },
    "id": "4_-n0qw9VzLF",
    "outputId": "6e1bc6d3-0d55-4114-986e-4ff36245af94"
   },
   "outputs": [
    {
     "name": "stdout",
     "output_type": "stream",
     "text": [
      "Here's a sad empty dictionary: {}\n",
      "Now that's something: {'a_value': 100}\n"
     ]
    }
   ],
   "source": [
    "empty_dict = {}\n",
    "print(f\"Here's a sad empty dictionary: {empty_dict}\")\n",
    "\n",
    "empty_dict[\"a_value\"] = 100\n",
    "print(f\"Now that's something: {empty_dict}\")"
   ]
  },
  {
   "cell_type": "code",
   "execution_count": 25,
   "metadata": {
    "colab": {
     "base_uri": "https://localhost:8080/"
    },
    "id": "2H2e6LEcW_sY",
    "outputId": "cb9834b2-80f4-4b82-c57a-2ab8d032a2e0"
   },
   "outputs": [
    {
     "name": "stdout",
     "output_type": "stream",
     "text": [
      "Now this is definitely not empty: {'a_value': 100, 'another_key': 20}\n"
     ]
    }
   ],
   "source": [
    "# You can also combine dictionaries\n",
    "new_dict = {\"another_key\": 20}\n",
    "empty_dict.update(new_dict)\n",
    "print(f\"Now this is definitely not empty: {empty_dict}\")"
   ]
  },
  {
   "cell_type": "markdown",
   "metadata": {},
   "source": [
    "Dictionaries are very common when creating structured data. The `value` for a given `key` could be a list or even another dictionary!"
   ]
  },
  {
   "cell_type": "code",
   "execution_count": 26,
   "metadata": {},
   "outputs": [
    {
     "name": "stdout",
     "output_type": "stream",
     "text": [
      "The block's ID is: 1.\n",
      "The block has 2 buildings.\n"
     ]
    }
   ],
   "source": [
    "# Let's use another dictionary for another building\n",
    "another_building = {\"height\": 50, \"number_of_floors\": 1, \"address\": \"100 Main Street\"}\n",
    "\n",
    "# We can now describe a block with multiple buildings as a dictionary\n",
    "a_block_with_buildings = {\"block_id\": 1, \"buildings\": [building, another_building]}\n",
    "\n",
    "print(f\"The block's ID is: {a_block_with_buildings['block_id']}.\")\n",
    "print(f\"The block has {len(a_block_with_buildings['buildings'])} buildings.\")"
   ]
  },
  {
   "cell_type": "markdown",
   "metadata": {
    "id": "vE2YMt_bXuNm"
   },
   "source": [
    "## Loops\n",
    "A `for` loop is a way to iterate and repeat code. The `for` defines how many repetitions occur, and what values change for each loop."
   ]
  },
  {
   "cell_type": "code",
   "execution_count": 27,
   "metadata": {
    "colab": {
     "base_uri": "https://localhost:8080/"
    },
    "id": "AV_YY8UcXogV",
    "outputId": "d755986b-4e8b-4a39-9d65-2eaa51c104d4"
   },
   "outputs": [
    {
     "name": "stdout",
     "output_type": "stream",
     "text": [
      "1\n",
      "2\n",
      "3\n",
      "4\n"
     ]
    }
   ],
   "source": [
    "# This loops over each number in the list\n",
    "list_of_four = [1, 2, 3, 4]\n",
    "for number in list_of_four:\n",
    "    print(number)"
   ]
  },
  {
   "cell_type": "markdown",
   "metadata": {
    "id": "jk16YHz3YEzH"
   },
   "source": [
    "Here are a few common patterns you will encounter with `for` loops:"
   ]
  },
  {
   "cell_type": "code",
   "execution_count": 28,
   "metadata": {
    "colab": {
     "base_uri": "https://localhost:8080/"
    },
    "id": "fhK_5K4JYeuy",
    "outputId": "0c720211-5fd2-4378-9463-5d0d816d81ed"
   },
   "outputs": [
    {
     "name": "stdout",
     "output_type": "stream",
     "text": [
      "0\n",
      "1\n",
      "2\n",
      "3\n",
      "4\n",
      "5\n",
      "6\n",
      "7\n",
      "8\n",
      "9\n"
     ]
    }
   ],
   "source": [
    "# You can loop over a sequential list of integers using range()\n",
    "# This counts up by 1, starting from 0 and ending before the provided argument\n",
    "for number in range(10):\n",
    "    print(number)"
   ]
  },
  {
   "cell_type": "code",
   "execution_count": 29,
   "metadata": {
    "colab": {
     "base_uri": "https://localhost:8080/"
    },
    "id": "uhlcNCp6YjJH",
    "outputId": "ebeab737-929d-4217-eece-1ca793924525"
   },
   "outputs": [
    {
     "name": "stdout",
     "output_type": "stream",
     "text": [
      "4\n",
      "5\n",
      "6\n",
      "7\n"
     ]
    }
   ],
   "source": [
    "# This counts up from the first argument and ending before the second argument\n",
    "for number in range(4, 8):\n",
    "    print(number)"
   ]
  },
  {
   "cell_type": "code",
   "execution_count": 30,
   "metadata": {
    "colab": {
     "base_uri": "https://localhost:8080/"
    },
    "id": "X2mzotIhYEYv",
    "outputId": "f493f71f-8fa2-4468-e7f5-e20a9900eeb0"
   },
   "outputs": [
    {
     "name": "stdout",
     "output_type": "stream",
     "text": [
      "key_1 1\n",
      "key_2 ['a', 'b', 'c']\n",
      "key_3 more stuff\n"
     ]
    }
   ],
   "source": [
    "# You can loop over each key and value in a dictionary using .items()\n",
    "some_dictionary = {\"key_1\": 1, \"key_2\": [\"a\", \"b\", \"c\"], \"key_3\": \"more stuff\"}\n",
    "\n",
    "for key, value in some_dictionary.items():\n",
    "    print(key, value)"
   ]
  },
  {
   "cell_type": "code",
   "execution_count": 31,
   "metadata": {
    "colab": {
     "base_uri": "https://localhost:8080/"
    },
    "id": "nY7UPcpQXOb1",
    "outputId": "5bab5956-83ec-4379-861b-e7f1ec7e2146"
   },
   "outputs": [
    {
     "name": "stdout",
     "output_type": "stream",
     "text": [
      "key_1\n",
      "key_2\n",
      "key_3\n"
     ]
    }
   ],
   "source": [
    "# You can loop over just the keys\n",
    "for key in some_dictionary.keys():\n",
    "    print(key)"
   ]
  },
  {
   "cell_type": "code",
   "execution_count": 32,
   "metadata": {
    "colab": {
     "base_uri": "https://localhost:8080/"
    },
    "id": "8Sl6d0xyYb0V",
    "outputId": "2bf9309f-561e-4596-b441-99b1a18364ce"
   },
   "outputs": [
    {
     "name": "stdout",
     "output_type": "stream",
     "text": [
      "1\n",
      "['a', 'b', 'c']\n",
      "more stuff\n"
     ]
    }
   ],
   "source": [
    "# You can loop over just the values\n",
    "for key in some_dictionary.values():\n",
    "    print(key)"
   ]
  },
  {
   "cell_type": "code",
   "execution_count": 33,
   "metadata": {
    "colab": {
     "base_uri": "https://localhost:8080/"
    },
    "id": "5vqa3EWYYdw3",
    "outputId": "199460cf-c927-429d-8ab9-39fd95762f13"
   },
   "outputs": [
    {
     "name": "stdout",
     "output_type": "stream",
     "text": [
      "In the 0-th loop, we get item: foo\n",
      "In the 1-th loop, we get item: 0\n"
     ]
    }
   ],
   "source": [
    "# You can loop over anything, and get a counter for the loop using enumerate()\n",
    "some_list = [\"foo\", 0]\n",
    "\n",
    "for i, item in enumerate(some_list):\n",
    "    print(f\"In the {i}-th loop, we get item: {item}\")"
   ]
  },
  {
   "cell_type": "markdown",
   "metadata": {
    "id": "qzWuDsrlZo83"
   },
   "source": [
    "## Conditionals\n",
    "Conditionals are `if`, `elif`, and `else` statements. These provide basic logic control in code. A nice attribute of Python is that conditionals and other patterns are intentionally human readable — you can scan a conditional and generally get a feel for the behavior.\n"
   ]
  },
  {
   "cell_type": "code",
   "execution_count": 34,
   "metadata": {
    "colab": {
     "base_uri": "https://localhost:8080/"
    },
    "id": "K63-ubD6Yua9",
    "outputId": "16687c21-471d-4715-8c40-ae3d022f7cd0"
   },
   "outputs": [
    {
     "name": "stdout",
     "output_type": "stream",
     "text": [
      "Thiee value 1000 is between zero and one million\n"
     ]
    }
   ],
   "source": [
    "# Can you guess which print statement will occure before running the code?\n",
    "some_value = 1000\n",
    "\n",
    "if some_value > 1_000_000:\n",
    "    print(f\"This value {some_value} is larger than one million\")\n",
    "elif some_value < 0:\n",
    "    print(f\"This value {some_value} is negative\")\n",
    "else:\n",
    "    print(f\"Thiee value {some_value} is between zero and one million\")"
   ]
  },
  {
   "cell_type": "markdown",
   "metadata": {
    "id": "9-kKTaeqbAvm"
   },
   "source": [
    "Each `if` or `elif` statement contains a logic check that returns `True` or `False`. The code that runs based on that check being `True` must be indented.\n",
    "\n",
    "You can check for multiple conditions by first using an `if` statment then `elif` (short for \"else if\") statements. An `else` block only runs if known of the above conditions are met. Think of this as the fallback; statements are evaluated from top to bottom, and the first one that returns `True` is evauated."
   ]
  },
  {
   "cell_type": "markdown",
   "metadata": {
    "id": "wj4XwdqpbnHa"
   },
   "source": [
    "## Functions\n",
    "Finally, functions are nice way to wrap up code for re-use. A function must first be defined with a `def` statement.\n",
    "\n",
    "Functions run a block of code. They _may_ take in input (known as arguments) and/or return output(s). They may do neither — in which case they simply  run code."
   ]
  },
  {
   "cell_type": "code",
   "execution_count": 35,
   "metadata": {
    "colab": {
     "base_uri": "https://localhost:8080/"
    },
    "id": "cWv71gVDa6Y5",
    "outputId": "13a945c8-bce0-432a-b17f-79bcbcd807bb"
   },
   "outputs": [
    {
     "data": {
      "text/plain": [
       "300"
      ]
     },
     "execution_count": 35,
     "metadata": {},
     "output_type": "execute_result"
    }
   ],
   "source": [
    "# Here's a basic function that takes 2 input arguments\n",
    "# And returns a single output\n",
    "def a_function_that_adds(a, b):\n",
    "    return a + b\n",
    "\n",
    "\n",
    "# You can call a function like so\n",
    "# Can you guess what the result should be?\n",
    "a_function_that_adds(100, 200)"
   ]
  },
  {
   "cell_type": "code",
   "execution_count": 36,
   "metadata": {
    "colab": {
     "base_uri": "https://localhost:8080/"
    },
    "id": "o2V-PY0bcAhc",
    "outputId": "e182c407-ae09-4ecc-89b1-c15219987b88"
   },
   "outputs": [
    {
     "name": "stdout",
     "output_type": "stream",
     "text": [
      "The value of c is: 110\n"
     ]
    }
   ],
   "source": [
    "# And you can directly assign the output of a function to a variable\n",
    "c = a_function_that_adds(a, b)\n",
    "print(f\"The value of c is: {c}\")"
   ]
  },
  {
   "cell_type": "code",
   "execution_count": 37,
   "metadata": {
    "colab": {
     "base_uri": "https://localhost:8080/"
    },
    "id": "SIIYCnAHcWd6",
    "outputId": "3ffa29f9-8b2a-474b-da03-cd833375ef48"
   },
   "outputs": [
    {
     "name": "stdout",
     "output_type": "stream",
     "text": [
      "Just saying hi!\n"
     ]
    }
   ],
   "source": [
    "# Here's a function that neither take in any inputs or returns any  outputs\n",
    "def a_function_that_just_runs():\n",
    "    print(\"Just saying hi!\")\n",
    "\n",
    "\n",
    "a_function_that_just_runs()"
   ]
  },
  {
   "cell_type": "markdown",
   "metadata": {},
   "source": [
    "## Putting it together\n",
    "You can put together all the pieces we've learned about — variables, lists, dictionaries, loops, conditionals, and functions — to write basic code that can do calculation and computation.\n",
    "\n",
    "Let's assume we have some data about building on a block, organized using a dictionary and a list like so:"
   ]
  },
  {
   "cell_type": "code",
   "execution_count": 38,
   "metadata": {},
   "outputs": [],
   "source": [
    "# Here's some data about a block\n",
    "a_city_block = {\n",
    "    \"buildings\": [\n",
    "        {\"address\": \"123 Main Street\", \"height\": 100},\n",
    "        {\"address\": \"100 Main Street\", \"height\": 200},\n",
    "    ]\n",
    "}"
   ]
  },
  {
   "cell_type": "markdown",
   "metadata": {},
   "source": [
    "We can write a function to get the total height of all buildings."
   ]
  },
  {
   "cell_type": "code",
   "execution_count": 39,
   "metadata": {},
   "outputs": [],
   "source": [
    "# Here's a function to calculate the total height\n",
    "def get_total_height(block):\n",
    "    \"\"\"Sums up the height of all buildings in a block\"\"\"\n",
    "    building_heights = []\n",
    "\n",
    "    for building in block[\"buildings\"]:\n",
    "        print(f'Reviewing building at {building[\"address\"]} ...')\n",
    "        building_heights.append(building[\"height\"])\n",
    "\n",
    "    total_height = sum(building_heights)\n",
    "    print(f\"Total height is {total_height}!\")\n",
    "    return total_height"
   ]
  },
  {
   "cell_type": "markdown",
   "metadata": {},
   "source": [
    "Let's try it out!"
   ]
  },
  {
   "cell_type": "code",
   "execution_count": 40,
   "metadata": {},
   "outputs": [
    {
     "name": "stdout",
     "output_type": "stream",
     "text": [
      "Reviewing building at 123 Main Street ...\n",
      "Reviewing building at 100 Main Street ...\n",
      "Total height is 300!\n"
     ]
    },
    {
     "data": {
      "text/plain": [
       "300"
      ]
     },
     "execution_count": 40,
     "metadata": {},
     "output_type": "execute_result"
    }
   ],
   "source": [
    "# Run the function\n",
    "get_total_height(a_city_block)"
   ]
  },
  {
   "cell_type": "markdown",
   "metadata": {
    "id": "gUQ7jU_Zc2to"
   },
   "source": [
    "# A puzzle\n",
    "OK! Let's put all this knowledge to use.\n",
    "\n",
    "Imagine you have collected data about four buildings. For each building, you have the number of floors, an address, and the average floor area and floor-to-floor height of a single floor.\n",
    "\n",
    "Something like this:\n",
    "\n",
    "| address | number of floors | average floor area | average floor height |\n",
    "| ---- | ---- | ---- | ---- |\n",
    "| 123 Main Street | 25 | 1000 | 10 |\n",
    "| 26 Broadway | 18 | 2000 | 9.5 |\n",
    "| 1 Electric Avenue | 15 | 770 | 12 |\n",
    "| 9 Wall Street | 80 | 900 | 10 |"
   ]
  },
  {
   "cell_type": "markdown",
   "metadata": {},
   "source": [
    "### Question 1\n",
    "Using Python, calculate:\n",
    "- the total floor area for each building\n",
    "- the total height for each building\n",
    "\n",
    "Store the calculated values in an appropriate data structure (list or dictionary) for each building."
   ]
  },
  {
   "cell_type": "code",
   "execution_count": 59,
   "metadata": {},
   "outputs": [],
   "source": [
    "# Try it out with code here!"
   ]
  },
  {
   "cell_type": "markdown",
   "metadata": {},
   "source": [
    "### Question 2\n",
    "Using Python, calculate the following across all four buildings:\n",
    "- the total floor area\n",
    "- the average number of floors\n",
    "- the average height\n",
    "\n",
    "Use your previously created data structures to calculate these new values and print the results."
   ]
  },
  {
   "cell_type": "code",
   "execution_count": 60,
   "metadata": {},
   "outputs": [],
   "source": [
    "# Try it out with code here!"
   ]
  },
  {
   "cell_type": "markdown",
   "metadata": {
    "id": "F-3K2mFteFbL"
   },
   "source": [
    "### Question 3\n",
    "Imagine you've got more data about a new building! Re-calculate your answers to questions 1 and 2 with the additional data as follow:\n",
    "\n",
    "| address | number of floors | average floor area | average floor height |\n",
    "| ---- | ---- | ---- | ---- |\n",
    "| 99 West Side Highway | 32 | 500 | 8 |"
   ]
  },
  {
   "cell_type": "code",
   "execution_count": 61,
   "metadata": {
    "id": "AnzBRVwNeFwR"
   },
   "outputs": [],
   "source": [
    "# Try it out with code here!"
   ]
  },
  {
   "cell_type": "markdown",
   "metadata": {},
   "source": [
    "### Submit your work\n",
    "Copy your answers for all five buildings into a spreadsheet, and upload them to Canvas!"
   ]
  }
 ],
 "metadata": {
  "colab": {
   "authorship_tag": "ABX9TyM4w+lSxVuBgE01ZpdkDM5M",
   "include_colab_link": true,
   "provenance": [],
   "toc_visible": true
  },
  "kernelspec": {
   "display_name": "Python 3",
   "name": "python3"
  },
  "language_info": {
   "codemirror_mode": {
    "name": "ipython",
    "version": 3
   },
   "file_extension": ".py",
   "mimetype": "text/x-python",
   "name": "python",
   "nbconvert_exporter": "python",
   "pygments_lexer": "ipython3",
   "version": "3.10.13"
  }
 },
 "nbformat": 4,
 "nbformat_minor": 0
}
