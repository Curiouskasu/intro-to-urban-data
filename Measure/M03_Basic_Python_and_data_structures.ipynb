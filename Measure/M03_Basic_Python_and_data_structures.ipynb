{
  "cells": [
    {
      "cell_type": "markdown",
      "metadata": {
        "id": "view-in-github",
        "colab_type": "text"
      },
      "source": [
        "<a href=\"https://colab.research.google.com/github/Curiouskasu/intro-to-urban-data/blob/main/Measure/M03_Basic_Python_and_data_structures.ipynb\" target=\"_parent\"><img src=\"https://colab.research.google.com/assets/colab-badge.svg\" alt=\"Open In Colab\"/></a>"
      ]
    },
    {
      "cell_type": "markdown",
      "metadata": {
        "id": "EsfENlDG71Gv"
      },
      "source": [
        "# **03 Measure** Basic Python and Data Structures\n",
        "\n",
        "```\n",
        "    Class       ARCH 6131 Urban Design Methods / Skills / Tools 1\n",
        "                Tata Innovation Center\n",
        "                Fall 2025\n",
        "                Monday 9:30 AM to 12 PM\n",
        "\n",
        "    Instructor  Brian Ho\n",
        "                brian@brian-ho.io\n",
        "```\n",
        "\n",
        "This notebook illustrates some basic ways to work with data in Python using built-in data structures. By and large, these are the main Python programming concepts you will need this semester:\n",
        "\n",
        "- Variables\n",
        "- Operators\n",
        "- Lists\n",
        "- Dictionaries\n",
        "- Loops\n",
        "- Conditionals\n",
        "- Functions\n",
        "\n",
        "This is meant to demonstrate key principles. For more comprehensive instructions please check out:\n",
        "- The official [Python 3 reference guide on data structures](https://docs.python.org/3/tutorial/datastructures.html)\n",
        "- The [introduction to Python’s built-in classes](https://cvw.cac.cornell.edu/python-intro/objects-and-oop/introduction) from the Cornell Virtual Workshop"
      ]
    },
    {
      "cell_type": "markdown",
      "metadata": {
        "id": "ZG3T2QMnQcUc"
      },
      "source": [
        "## Variables\n",
        "Variables are names that reference objects and data. In Python, variables are _assigned_ a value — and can generally be reassigned to any new value. You can assign a value to Python using the `=` operator:\n",
        "\n",
        "```\n",
        "variable_name = <value_to_assign>\n",
        "```\n",
        "\n",
        "Here are a few examples of variables for numbers. These support the mathematical operators you might expect: addition, subtraction, multiplication, division, etc ..."
      ]
    },
    {
      "cell_type": "code",
      "execution_count": 1,
      "metadata": {
        "colab": {
          "base_uri": "https://localhost:8080/"
        },
        "id": "JvMxo__n7rd1",
        "outputId": "d8facabc-346a-469f-e478-b882544296fc"
      },
      "outputs": [
        {
          "output_type": "stream",
          "name": "stdout",
          "text": [
            "a = 0\n",
            "b = 1\n",
            "c = 1\n"
          ]
        }
      ],
      "source": [
        "# A variable can be an integer and operations performed on integers\n",
        "a = 0\n",
        "b = 1\n",
        "c = a + b\n",
        "print(f\"a = {a}\")\n",
        "print(f\"b = {b}\")\n",
        "print(f\"c = {c}\")"
      ]
    },
    {
      "cell_type": "code",
      "source": [
        "a+c+c"
      ],
      "metadata": {
        "id": "zJCl-pYHEWq5",
        "outputId": "419ae589-4169-404f-8eaf-e16d6e979ce5",
        "colab": {
          "base_uri": "https://localhost:8080/"
        }
      },
      "execution_count": 4,
      "outputs": [
        {
          "output_type": "execute_result",
          "data": {
            "text/plain": [
              "2"
            ]
          },
          "metadata": {},
          "execution_count": 4
        }
      ]
    },
    {
      "cell_type": "code",
      "execution_count": 2,
      "metadata": {
        "id": "pBEeYaiNERvw",
        "outputId": "cc338fd8-28af-4268-f06b-1ed7c5a9be85",
        "colab": {
          "base_uri": "https://localhost:8080/"
        }
      },
      "outputs": [
        {
          "output_type": "stream",
          "name": "stdout",
          "text": [
            "d = 2.5\n",
            "e = 100.0\n",
            "f = 250.0\n"
          ]
        }
      ],
      "source": [
        "# A variable can also be a float — a decimal value\n",
        "d = 2.5\n",
        "e = 1e2\n",
        "f = d * e\n",
        "print(f\"d = {d}\")\n",
        "print(f\"e = {e}\")\n",
        "print(f\"f = {f}\")"
      ]
    },
    {
      "cell_type": "markdown",
      "metadata": {
        "id": "9H8EsOqIRkPZ"
      },
      "source": [
        "Variables can also be text, referred to as strings. Notice that strings can have operators — in this case, you can add two strings together."
      ]
    },
    {
      "cell_type": "code",
      "execution_count": 11,
      "metadata": {
        "colab": {
          "base_uri": "https://localhost:8080/"
        },
        "id": "QiC1H3XrRM2h",
        "outputId": "51aa8669-2157-47f6-9409-ed0c9857e13c"
      },
      "outputs": [
        {
          "output_type": "stream",
          "name": "stdout",
          "text": [
            "Here's a string!\n"
          ]
        }
      ],
      "source": [
        "# A variable can be a string: one or more characters\n",
        "x = \"Here's a string\"\n",
        "y = \"!\"\n",
        "z = x + y\n",
        "print(z)"
      ]
    },
    {
      "cell_type": "markdown",
      "metadata": {
        "id": "rua4tmnpaDMN"
      },
      "source": [
        "## Operators\n",
        "You may have noticed that above we use operators to combine or otherwise work with variable. Generally, these do what we expect like basic addition, subtraction, multiplication, and division."
      ]
    },
    {
      "cell_type": "code",
      "execution_count": 12,
      "metadata": {
        "colab": {
          "base_uri": "https://localhost:8080/"
        },
        "id": "qmJxcrYqaNR5",
        "outputId": "d73101cf-d606-4d96-cee3-ba528c9a5460"
      },
      "outputs": [
        {
          "output_type": "stream",
          "name": "stdout",
          "text": [
            "2\n",
            "20.0\n"
          ]
        }
      ],
      "source": [
        "print(1 + 1)\n",
        "print(200 / 10)"
      ]
    },
    {
      "cell_type": "markdown",
      "metadata": {
        "id": "3uPZZoBbTADB"
      },
      "source": [
        "There are some operators that you may be less familiar with. Comparison operators will return a logical value of `True` or `False`, known as a boolean."
      ]
    },
    {
      "cell_type": "code",
      "execution_count": 5,
      "metadata": {
        "colab": {
          "base_uri": "https://localhost:8080/"
        },
        "id": "TiFnWJ0WZ5Hv",
        "outputId": "98a3de1e-07ce-4259-e2cc-2ded7314ba28"
      },
      "outputs": [
        {
          "output_type": "execute_result",
          "data": {
            "text/plain": [
              "False"
            ]
          },
          "metadata": {},
          "execution_count": 5
        }
      ],
      "source": [
        "# The >, <, >=, <= check if values are smaller or larger.\n",
        "# Try changing the operator or values and see what happens!\n",
        "10 > 200"
      ]
    },
    {
      "cell_type": "code",
      "execution_count": 6,
      "metadata": {
        "colab": {
          "base_uri": "https://localhost:8080/"
        },
        "id": "GAX3SNmBTGZU",
        "outputId": "e24822bd-2c0a-4e99-99ec-0e5379366533"
      },
      "outputs": [
        {
          "output_type": "execute_result",
          "data": {
            "text/plain": [
              "True"
            ]
          },
          "metadata": {},
          "execution_count": 6
        }
      ],
      "source": [
        "# The == checks if two values are the same\n",
        "100 == 20 * 5"
      ]
    },
    {
      "cell_type": "code",
      "execution_count": 7,
      "metadata": {
        "colab": {
          "base_uri": "https://localhost:8080/"
        },
        "id": "XMXq4BWGTM_O",
        "outputId": "4c89fe28-678c-47f2-83b1-de53cda20f7f"
      },
      "outputs": [
        {
          "output_type": "execute_result",
          "data": {
            "text/plain": [
              "False"
            ]
          },
          "metadata": {},
          "execution_count": 7
        }
      ],
      "source": [
        "# The != checks if two values are not the same\n",
        "# In this case\n",
        "2 != 1 + 1"
      ]
    },
    {
      "cell_type": "markdown",
      "metadata": {
        "id": "CuBxmSlBERvz"
      },
      "source": [
        "Other operators simplify basic addition and subtraction."
      ]
    },
    {
      "cell_type": "code",
      "execution_count": null,
      "metadata": {
        "colab": {
          "base_uri": "https://localhost:8080/"
        },
        "id": "6cwKaeTQTX2e",
        "outputId": "9d6270d4-5202-4e9b-acab-00a915305a1d"
      },
      "outputs": [
        {
          "name": "stdout",
          "output_type": "stream",
          "text": [
            "110\n"
          ]
        }
      ],
      "source": [
        "# The += and -= let you increment or decrement from a variable and re-assign in one go.\n",
        "# Let's create a variable\n",
        "a = 100\n",
        "# This is the same as doing: a = a + 10\n",
        "a += 10\n",
        "print(a)"
      ]
    },
    {
      "cell_type": "code",
      "execution_count": null,
      "metadata": {
        "id": "U8rV2_T8ERvz",
        "outputId": "f5d8e9ff-1c28-4fb3-8c79-8a951cfff42a"
      },
      "outputs": [
        {
          "name": "stdout",
          "output_type": "stream",
          "text": [
            "0\n"
          ]
        }
      ],
      "source": [
        "# What do you think the value of b will be?\n",
        "b = 100\n",
        "b -= 100\n",
        "print(b)"
      ]
    },
    {
      "cell_type": "code",
      "execution_count": null,
      "metadata": {
        "id": "ZyY2xAUKUHXi",
        "outputId": "4f6dc97c-2bc7-4dcc-c03a-27b944a2af0a"
      },
      "outputs": [
        {
          "name": "stdout",
          "output_type": "stream",
          "text": [
            "4\n"
          ]
        }
      ],
      "source": [
        "# The *= and /= operators do the same for multiplication and division\n",
        "c = 1\n",
        "c *= 4\n",
        "print(c)"
      ]
    },
    {
      "cell_type": "code",
      "execution_count": null,
      "metadata": {
        "id": "gce39Cs2ERv0",
        "outputId": "47097bcd-bfce-4f75-98eb-69ead0b4274c"
      },
      "outputs": [
        {
          "name": "stdout",
          "output_type": "stream",
          "text": [
            "1.0\n"
          ]
        }
      ],
      "source": [
        "d = -2\n",
        "d /= -2\n",
        "print(d)"
      ]
    },
    {
      "cell_type": "markdown",
      "metadata": {
        "id": "661DBaNGSgYz"
      },
      "source": [
        "Try playing around further with variables and operators in a new cell below!"
      ]
    },
    {
      "cell_type": "markdown",
      "metadata": {
        "id": "oSdfYvINSJza"
      },
      "source": [
        "## Lists\n",
        "A list (or array) is a common data structure for multiple objects. You can distinguish a list when you see the square brackets `[]` with items separated by commas. You may also see lists created with the `list()` constructor.\n",
        "\n",
        "Lists are ordered, and you can add, remove, and iterate with a list."
      ]
    },
    {
      "cell_type": "code",
      "execution_count": 14,
      "metadata": {
        "colab": {
          "base_uri": "https://localhost:8080/"
        },
        "id": "70Xtxv9pRxkP",
        "outputId": "463f4af2-2af3-4f2d-81e5-f9e3e0d35d41"
      },
      "outputs": [
        {
          "output_type": "stream",
          "name": "stdout",
          "text": [
            "[1, 2, 3, 4, 5]\n"
          ]
        }
      ],
      "source": [
        "# A basic list of numbers\n",
        "a_example_list = [1, 2, 3, 4, 5]\n",
        "print(a_example_list)"
      ]
    },
    {
      "cell_type": "markdown",
      "metadata": {
        "id": "T7BQoKl7V-Mt"
      },
      "source": [
        "You can access any of the items using its index (position in the list) and square bracket notation `[]`. A key concept to remember is that Python (and much of programming and computer science) starts counting from zero. This is known as a zero-based numbering."
      ]
    },
    {
      "cell_type": "code",
      "execution_count": 15,
      "metadata": {
        "colab": {
          "base_uri": "https://localhost:8080/"
        },
        "id": "9gnP43O-UTVv",
        "outputId": "98639e0c-3094-4e7d-98e1-b576f8f43a22"
      },
      "outputs": [
        {
          "output_type": "execute_result",
          "data": {
            "text/plain": [
              "1"
            ]
          },
          "metadata": {},
          "execution_count": 15
        }
      ],
      "source": [
        "# You can access specific items in a list using an index\n",
        "# Python is zero-based, and zero is the first item\n",
        "a_example_list[0]"
      ]
    },
    {
      "cell_type": "code",
      "execution_count": 16,
      "metadata": {
        "colab": {
          "base_uri": "https://localhost:8080/"
        },
        "id": "6j7_560uUyTG",
        "outputId": "2f238a50-545d-4bf2-b341-0d90e2dfbcd7"
      },
      "outputs": [
        {
          "output_type": "execute_result",
          "data": {
            "text/plain": [
              "[4, 5]"
            ]
          },
          "metadata": {},
          "execution_count": 16
        }
      ],
      "source": [
        "# You can use a colon to get a range within a list\n",
        "# This gets everything from index 3 (the fourth item) onwards:\n",
        "a_example_list[3:]"
      ]
    },
    {
      "cell_type": "markdown",
      "metadata": {
        "id": "W5i4oHGtWQpX"
      },
      "source": [
        "Lists are _mutable_ meaning they can be changed and edited. You can start with an empty  list and add to it using `append()`. This is a method on the list object: a function that belongs to it."
      ]
    },
    {
      "cell_type": "code",
      "execution_count": 18,
      "metadata": {
        "id": "S5_OFHfyS6NH",
        "outputId": "7b77c2b4-a305-4aeb-bdcd-3f18444671df",
        "colab": {
          "base_uri": "https://localhost:8080/"
        }
      },
      "outputs": [
        {
          "output_type": "execute_result",
          "data": {
            "text/plain": [
              "['a value']"
            ]
          },
          "metadata": {},
          "execution_count": 18
        }
      ],
      "source": [
        "# You can have empty lists!\n",
        "an_empty_list = []\n",
        "# You can add an item to the end of list!\n",
        "an_empty_list.append(\"a value\")\n",
        "an_empty_list"
      ]
    },
    {
      "cell_type": "code",
      "execution_count": 19,
      "metadata": {
        "id": "j_YQ6mbHWreq",
        "outputId": "bf0ef4e2-f78f-4f58-d263-fe9079efcbfb",
        "colab": {
          "base_uri": "https://localhost:8080/"
        }
      },
      "outputs": [
        {
          "output_type": "execute_result",
          "data": {
            "text/plain": [
              "['a value', 1, 2, 3, 4, 5]"
            ]
          },
          "metadata": {},
          "execution_count": 19
        }
      ],
      "source": [
        "# You can add lists together\n",
        "a_longer_list = an_empty_list + a_example_list\n",
        "a_longer_list"
      ]
    },
    {
      "cell_type": "code",
      "execution_count": 20,
      "metadata": {
        "colab": {
          "base_uri": "https://localhost:8080/"
        },
        "id": "QP_NGkqxU-zj",
        "outputId": "85ed4858-bc61-4433-d95a-8d467ab77462"
      },
      "outputs": [
        {
          "output_type": "execute_result",
          "data": {
            "text/plain": [
              "[10, 2, 3, 4, 5]"
            ]
          },
          "metadata": {},
          "execution_count": 20
        }
      ],
      "source": [
        "# And you can reassign to a specific item in a list\n",
        "a_example_list[0] = 10\n",
        "a_example_list"
      ]
    },
    {
      "cell_type": "markdown",
      "metadata": {
        "id": "8CrV-iMVERv1"
      },
      "source": [
        "You can get the number of items in a list with the `len()` function:"
      ]
    },
    {
      "cell_type": "code",
      "execution_count": 22,
      "metadata": {
        "id": "Z_n-uLQyERv2",
        "outputId": "d90f7c8f-2835-4610-8a56-23c48c4f8b97",
        "colab": {
          "base_uri": "https://localhost:8080/"
        }
      },
      "outputs": [
        {
          "output_type": "stream",
          "name": "stdout",
          "text": [
            "List has 6 items\n"
          ]
        }
      ],
      "source": [
        "print(f\"List has {len(a_longer_list)} items\")"
      ]
    },
    {
      "cell_type": "markdown",
      "metadata": {
        "id": "YDPvLb-CERv2"
      },
      "source": [
        "Try playing around further with lists in a new cell below!"
      ]
    },
    {
      "cell_type": "markdown",
      "metadata": {
        "id": "8okWEIF8Ujmd"
      },
      "source": [
        "## Dictionaries\n",
        "Dictionaries are a set of key-value pairs. Each `key` uniquely identifies a `value` or other data structure. You can recognize a dictionary when you see squiggly brackets `{}` and keys and values defined with a colon.\n",
        "\n",
        "Dictionaries are useful when you need to organize data. Imagine you want to record data about a building's height, number of floors, and address!"
      ]
    },
    {
      "cell_type": "code",
      "execution_count": 23,
      "metadata": {
        "colab": {
          "base_uri": "https://localhost:8080/"
        },
        "id": "D1rMXfxgUSHe",
        "outputId": "c9e05d0e-e4d3-455e-9e1f-d791ab3f3cd0"
      },
      "outputs": [
        {
          "output_type": "stream",
          "name": "stdout",
          "text": [
            "Here's some data about a building: {'height': 100, 'number_of_floors': 2, 'address': '123 Main Street'}\n"
          ]
        }
      ],
      "source": [
        "# A simple dictionary that holds information about a building\n",
        "b: 2, \"address\": \"123 Main Street\"}\n",
        "print(f\"Here's some data about a building: {building}\")"
      ]
    },
    {
      "cell_type": "markdown",
      "metadata": {
        "id": "5kKL_HBkVz0E"
      },
      "source": [
        "You'll be able to access a specific `value` in a dictionary using the corresponding `key` with square bracket notation `[]`."
      ]
    },
    {
      "cell_type": "code",
      "execution_count": 24,
      "metadata": {
        "colab": {
          "base_uri": "https://localhost:8080/"
        },
        "id": "l-rGFg2NVead",
        "outputId": "be5e63ed-e371-4e96-9423-eced8c38721f"
      },
      "outputs": [
        {
          "output_type": "execute_result",
          "data": {
            "text/plain": [
              "100"
            ]
          },
          "metadata": {},
          "execution_count": 24
        }
      ],
      "source": [
        "# Get a value from a dictionary by its key\n",
        "building[\"height\"]"
      ]
    },
    {
      "cell_type": "markdown",
      "metadata": {
        "id": "GwNhH7veWvM9"
      },
      "source": [
        "And, like with lists, you can start an empty dictionary and add to it."
      ]
    },
    {
      "cell_type": "code",
      "execution_count": 25,
      "metadata": {
        "colab": {
          "base_uri": "https://localhost:8080/"
        },
        "id": "4_-n0qw9VzLF",
        "outputId": "43c9ecf5-0a7d-4935-d1f7-1b5558067af8"
      },
      "outputs": [
        {
          "output_type": "stream",
          "name": "stdout",
          "text": [
            "Here's a sad empty dictionary: {}\n",
            "Now that's something: {'a_value': 100}\n"
          ]
        }
      ],
      "source": [
        "empty_dict = {}\n",
        "print(f\"Here's a sad empty dictionary: {empty_dict}\")\n",
        "\n",
        "empty_dict[\"a_value\"] = 100\n",
        "print(f\"Now that's something: {empty_dict}\")"
      ]
    },
    {
      "cell_type": "code",
      "execution_count": 27,
      "metadata": {
        "colab": {
          "base_uri": "https://localhost:8080/"
        },
        "id": "2H2e6LEcW_sY",
        "outputId": "6673493c-260a-441a-c3ca-5c172701d2ec"
      },
      "outputs": [
        {
          "output_type": "stream",
          "name": "stdout",
          "text": [
            "Now this is definitely not empty: {'a_value': 100, 'another_key': 20}\n"
          ]
        }
      ],
      "source": [
        "# You can also combine dictionaries\n",
        "new_dict = {\"another_key\": 20}\n",
        "empty_dict.update(new_dict)\n",
        "print(f\"Now this is definitely not empty: {empty_dict}\")"
      ]
    },
    {
      "cell_type": "markdown",
      "metadata": {
        "id": "g2_3FoF_ERv3"
      },
      "source": [
        "Dictionaries are very common when creating structured data. The `value` for a given `key` could be a list or even another dictionary!"
      ]
    },
    {
      "cell_type": "code",
      "execution_count": 31,
      "metadata": {
        "id": "R5nXP0voERv3",
        "outputId": "716a4d31-d732-434a-a6e3-e91fedc428bc",
        "colab": {
          "base_uri": "https://localhost:8080/"
        }
      },
      "outputs": [
        {
          "output_type": "stream",
          "name": "stdout",
          "text": [
            "The block's ID is: 1.\n",
            "The block has 2 buildings.\n"
          ]
        }
      ],
      "source": [
        "# Let's use another dictionary for another building\n",
        "another_building = {\"height\": 50, \"number_of_floors\": 1, \"address\": \"100 Main Street\"}\n",
        "\n",
        "# We can now describe a block with multiple buildings as a dictionary\n",
        "a_block_with_buildings = {\"block_id\": 1, \"buildings\": [building, another_building]}\n",
        "\n",
        "print(f\"The block's ID is: {a_block_with_buildings['block_id']}.\")\n",
        "print(f\"The block has {len(a_block_with_buildings['buildings'])} buildings.\")"
      ]
    },
    {
      "cell_type": "markdown",
      "metadata": {
        "id": "vE2YMt_bXuNm"
      },
      "source": [
        "## Loops\n",
        "A `for` loop is a way to iterate and repeat code. The `for` defines how many repetitions occur, and what values change for each loop."
      ]
    },
    {
      "cell_type": "code",
      "execution_count": 46,
      "metadata": {
        "colab": {
          "base_uri": "https://localhost:8080/"
        },
        "id": "AV_YY8UcXogV",
        "outputId": "d7b865d1-bde7-4932-ee36-e009ce5fc245"
      },
      "outputs": [
        {
          "output_type": "stream",
          "name": "stdout",
          "text": [
            "I have 11 children.\n",
            "I have 12 children.\n",
            "I have 13 children.\n",
            "I have 14 children.\n"
          ]
        }
      ],
      "source": [
        "# This loops over each number in the list\n",
        "starting_value=10\n",
        "list_of_four = [1, 2, 3, 4]\n",
        "for items in list_of_four:\n",
        "    print(\"I have\", items+starting_value, \"children.\")"
      ]
    },
    {
      "cell_type": "markdown",
      "metadata": {
        "id": "jk16YHz3YEzH"
      },
      "source": [
        "Here are a few common patterns you will encounter with `for` loops:"
      ]
    },
    {
      "cell_type": "code",
      "execution_count": 51,
      "metadata": {
        "colab": {
          "base_uri": "https://localhost:8080/"
        },
        "id": "fhK_5K4JYeuy",
        "outputId": "8b1c3c17-ce3e-425a-f0e0-075cc8793dff"
      },
      "outputs": [
        {
          "output_type": "stream",
          "name": "stdout",
          "text": [
            "0\n",
            "1\n",
            "2\n",
            "3\n",
            "4\n",
            "5\n",
            "6\n",
            "7\n",
            "8\n",
            "9\n"
          ]
        }
      ],
      "source": [
        "# You can loop over a sequential list of integers using range()\n",
        "# This counts up by 1, starting from 0 and ending before the provided argument\n",
        "for number in range(10):\n",
        "    print(number)"
      ]
    },
    {
      "cell_type": "code",
      "execution_count": 50,
      "metadata": {
        "colab": {
          "base_uri": "https://localhost:8080/"
        },
        "id": "uhlcNCp6YjJH",
        "outputId": "0e039a8f-f50b-4d1d-dc7b-5867a666c69b"
      },
      "outputs": [
        {
          "output_type": "stream",
          "name": "stdout",
          "text": [
            "4\n",
            "5\n",
            "6\n",
            "7\n"
          ]
        }
      ],
      "source": [
        "# This counts up from the first argument and ending before the second argument\n",
        "for number in range(4, 8):\n",
        "    print(number)"
      ]
    },
    {
      "cell_type": "code",
      "execution_count": 49,
      "metadata": {
        "colab": {
          "base_uri": "https://localhost:8080/"
        },
        "id": "X2mzotIhYEYv",
        "outputId": "88e792f2-6587-4911-f299-e577dd3e10d3"
      },
      "outputs": [
        {
          "output_type": "stream",
          "name": "stdout",
          "text": [
            "key_1 1\n",
            "key_2 ['a', 'b', 'c']\n",
            "key_3 more stuff\n"
          ]
        }
      ],
      "source": [
        "# You can loop over each key and value in a dictionary using .items()\n",
        "some_dictionary = {\"key_1\": 1, \"key_2\": [\"a\", \"b\", \"c\"], \"key_3\": \"more stuff\"}\n",
        "\n",
        "for key, value in some_dictionary.items():\n",
        "    print(key, value)"
      ]
    },
    {
      "cell_type": "code",
      "execution_count": 52,
      "metadata": {
        "colab": {
          "base_uri": "https://localhost:8080/"
        },
        "id": "nY7UPcpQXOb1",
        "outputId": "1d3da097-fe8d-4403-dd51-d70c0e675a9e"
      },
      "outputs": [
        {
          "output_type": "stream",
          "name": "stdout",
          "text": [
            "key_1\n",
            "key_2\n",
            "key_3\n"
          ]
        }
      ],
      "source": [
        "# You can loop over just the keys\n",
        "for key in some_dictionary.keys():\n",
        "    print(key)"
      ]
    },
    {
      "cell_type": "code",
      "execution_count": 53,
      "metadata": {
        "colab": {
          "base_uri": "https://localhost:8080/"
        },
        "id": "8Sl6d0xyYb0V",
        "outputId": "d83af857-2250-4966-9e0a-69290ab007cc"
      },
      "outputs": [
        {
          "output_type": "stream",
          "name": "stdout",
          "text": [
            "1\n",
            "['a', 'b', 'c']\n",
            "more stuff\n"
          ]
        }
      ],
      "source": [
        "# You can loop over just the values\n",
        "for key in some_dictionary.values():\n",
        "    print(key)"
      ]
    },
    {
      "cell_type": "code",
      "execution_count": null,
      "metadata": {
        "colab": {
          "base_uri": "https://localhost:8080/"
        },
        "id": "5vqa3EWYYdw3",
        "outputId": "199460cf-c927-429d-8ab9-39fd95762f13"
      },
      "outputs": [
        {
          "name": "stdout",
          "output_type": "stream",
          "text": [
            "In the 0-th loop, we get item: foo\n",
            "In the 1-th loop, we get item: 0\n"
          ]
        }
      ],
      "source": [
        "# You can loop over anything, and get a counter for the loop using enumerate()\n",
        "some_list = [\"foo\", 0]\n",
        "\n",
        "for i, item in enumerate(some_list):\n",
        "    print(f\"In the {i}-th loop, we get item: {item}\")"
      ]
    },
    {
      "cell_type": "markdown",
      "metadata": {
        "id": "qzWuDsrlZo83"
      },
      "source": [
        "## Conditionals\n",
        "Conditionals are `if`, `elif`, and `else` statements. These provide basic logic control in code. A nice attribute of Python is that conditionals and other patterns are intentionally human readable — you can scan a conditional and generally get a feel for the behavior.\n"
      ]
    },
    {
      "cell_type": "code",
      "execution_count": 54,
      "metadata": {
        "colab": {
          "base_uri": "https://localhost:8080/"
        },
        "id": "K63-ubD6Yua9",
        "outputId": "6755af0a-c896-4103-8db3-fbd7d95eddf3"
      },
      "outputs": [
        {
          "output_type": "stream",
          "name": "stdout",
          "text": [
            "Thiee value 1000 is between zero and one million\n"
          ]
        }
      ],
      "source": [
        "# Can you guess which print statement will occure before running the code?\n",
        "some_value = 1000\n",
        "\n",
        "if some_value > 1_000_000:\n",
        "    print(f\"This value {some_value} is larger than one million\")\n",
        "elif some_value < 0:\n",
        "    print(f\"This value {some_value} is negative\")\n",
        "else:\n",
        "    print(f\"Thiee value {some_value} is between zero and one million\")"
      ]
    },
    {
      "cell_type": "markdown",
      "metadata": {
        "id": "9-kKTaeqbAvm"
      },
      "source": [
        "Each `if` or `elif` statement contains a logic check that returns `True` or `False`. The code that runs based on that check being `True` must be indented.\n",
        "\n",
        "You can check for multiple conditions by first using an `if` statment then `elif` (short for \"else if\") statements. An `else` block only runs if known of the above conditions are met. Think of this as the fallback; statements are evaluated from top to bottom, and the first one that returns `True` is evauated."
      ]
    },
    {
      "cell_type": "markdown",
      "metadata": {
        "id": "wj4XwdqpbnHa"
      },
      "source": [
        "## Functions\n",
        "Finally, functions are nice way to wrap up code for re-use. A function must first be defined with a `def` statement.\n",
        "\n",
        "Functions run a block of code. They _may_ take in input (known as arguments) and/or return output(s). They may do neither — in which case they simply  run code."
      ]
    },
    {
      "cell_type": "code",
      "execution_count": 56,
      "metadata": {
        "colab": {
          "base_uri": "https://localhost:8080/"
        },
        "id": "cWv71gVDa6Y5",
        "outputId": "43c885c7-039f-4f18-83d7-2de8a85c82a3"
      },
      "outputs": [
        {
          "output_type": "execute_result",
          "data": {
            "text/plain": [
              "300"
            ]
          },
          "metadata": {},
          "execution_count": 56
        }
      ],
      "source": [
        "# Here's a basic function that takes 2 input arguments\n",
        "# And returns a single output\n",
        "def a_function_that_adds(a, b):\n",
        "    return a + b\n",
        "\n",
        "\n",
        "# You can call a function like so\n",
        "# Can you guess what the result should be?\n",
        "a_function_that_adds(100, 200)"
      ]
    },
    {
      "cell_type": "code",
      "execution_count": 62,
      "metadata": {
        "colab": {
          "base_uri": "https://localhost:8080/"
        },
        "id": "o2V-PY0bcAhc",
        "outputId": "6d83edcb-2731-4af1-ae81-1d846b7b6a84"
      },
      "outputs": [
        {
          "output_type": "stream",
          "name": "stdout",
          "text": [
            "The value of c is: 31\n"
          ]
        }
      ],
      "source": [
        "# And you can directly assign the output of a function to a variable\n",
        "c = a_function_that_adds(1, 30)\n",
        "print(f\"The value of c is: {c}\")"
      ]
    },
    {
      "cell_type": "code",
      "source": [
        "c"
      ],
      "metadata": {
        "id": "PYZpZgeHYKs5",
        "outputId": "2f5e43c8-5f7e-4598-c78b-413802cf0801",
        "colab": {
          "base_uri": "https://localhost:8080/"
        }
      },
      "execution_count": 63,
      "outputs": [
        {
          "output_type": "execute_result",
          "data": {
            "text/plain": [
              "31"
            ]
          },
          "metadata": {},
          "execution_count": 63
        }
      ]
    },
    {
      "cell_type": "code",
      "execution_count": 59,
      "metadata": {
        "colab": {
          "base_uri": "https://localhost:8080/"
        },
        "id": "SIIYCnAHcWd6",
        "outputId": "b4e867db-2399-4038-ade1-c5603271e26e"
      },
      "outputs": [
        {
          "output_type": "stream",
          "name": "stdout",
          "text": [
            "Just saying hi!\n"
          ]
        }
      ],
      "source": [
        "# Here's a function that neither take in any inputs or returns any  outputs\n",
        "def a_function_that_just_runs():\n",
        "    print(\"Just saying hi!\")\n",
        "\n",
        "\n",
        "a_function_that_just_runs()"
      ]
    },
    {
      "cell_type": "markdown",
      "metadata": {
        "id": "tUjY1q48ERwF"
      },
      "source": [
        "## Putting it together\n",
        "You can put together all the pieces we've learned about — variables, lists, dictionaries, loops, conditionals, and functions — to write basic code that can do calculation and computation.\n",
        "\n",
        "Let's assume we have some data about building on a block, organized using a dictionary and a list like so:"
      ]
    },
    {
      "cell_type": "code",
      "execution_count": 64,
      "metadata": {
        "id": "b9-DVC0gERwF"
      },
      "outputs": [],
      "source": [
        "# Here's some data about a block\n",
        "a_city_block = {\n",
        "    \"buildings\": [\n",
        "        {\"address\": \"123 Main Street\", \"height\": 100},\n",
        "        {\"address\": \"100 Main Street\", \"height\": 200},\n",
        "    ]\n",
        "}"
      ]
    },
    {
      "cell_type": "markdown",
      "metadata": {
        "id": "ie_gP7gtERwF"
      },
      "source": [
        "We can write a function to get the total height of all buildings."
      ]
    },
    {
      "cell_type": "code",
      "execution_count": 65,
      "metadata": {
        "id": "mRm5D3EaERwF"
      },
      "outputs": [],
      "source": [
        "# Here's a function to calculate the total height\n",
        "def get_total_height(block):\n",
        "    \"\"\"Sums up the height of all buildings in a block\"\"\"\n",
        "    building_heights = []\n",
        "\n",
        "    for building in block[\"buildings\"]:\n",
        "        print(f'Reviewing building at {building[\"address\"]} ...')\n",
        "        building_heights.append(building[\"height\"])\n",
        "\n",
        "    total_height = sum(building_heights)\n",
        "    print(f\"Total height is {total_height}!\")\n",
        "    return total_height"
      ]
    },
    {
      "cell_type": "markdown",
      "metadata": {
        "id": "cMrV_VaQERwF"
      },
      "source": [
        "Let's try it out!"
      ]
    },
    {
      "cell_type": "code",
      "execution_count": 66,
      "metadata": {
        "id": "SN0lGSKGERwF",
        "outputId": "8c513280-7aad-4215-abc1-475378661bff",
        "colab": {
          "base_uri": "https://localhost:8080/"
        }
      },
      "outputs": [
        {
          "output_type": "stream",
          "name": "stdout",
          "text": [
            "Reviewing building at 123 Main Street ...\n",
            "Reviewing building at 100 Main Street ...\n",
            "Total height is 300!\n"
          ]
        },
        {
          "output_type": "execute_result",
          "data": {
            "text/plain": [
              "300"
            ]
          },
          "metadata": {},
          "execution_count": 66
        }
      ],
      "source": [
        "# Run the function\n",
        "get_total_height(a_city_block)"
      ]
    },
    {
      "cell_type": "markdown",
      "metadata": {
        "id": "gUQ7jU_Zc2to"
      },
      "source": [
        "# A puzzle\n",
        "OK! Let's put all this knowledge to use.\n",
        "\n",
        "Imagine you have collected data about four buildings. For each building, you have the number of floors, an address, and the average floor area and floor-to-floor height of a single floor.\n",
        "\n",
        "Something like this:\n",
        "\n",
        "| address | number of floors | average floor area | average floor height |\n",
        "| ---- | ---- | ---- | ---- |\n",
        "| 123 Main Street | 25 | 1000 | 10 |\n",
        "| 26 Broadway | 18 | 2000 | 9.5 |\n",
        "| 1 Electric Avenue | 15 | 770 | 12 |\n",
        "| 9 Wall Street | 80 | 900 | 10 |"
      ]
    },
    {
      "cell_type": "markdown",
      "metadata": {
        "id": "HeNoM-yEERwG"
      },
      "source": [
        "### Question 1\n",
        "Using Python, calculate:\n",
        "- the total floor area for each building\n",
        "- the total height for each building\n",
        "\n",
        "Store the calculated values in an appropriate data structure (list or dictionary) for each building."
      ]
    },
    {
      "cell_type": "code",
      "execution_count": null,
      "metadata": {
        "id": "BlOn40QiERwG"
      },
      "outputs": [],
      "source": [
        "# Try it out with code here!\n",
        "city_block = {\n",
        "    \"buildings\": [\n",
        "        {\"address\": \"123 Main Street\", \"number of floors\": 25, \"average floor area\":1000, \"average floor height\":10},\n",
        "        {\"address\": \"26 Broadway\", \"number of floors\": 18, \"average floor area\":2000, \"average floor height\":9.5},\n",
        "        {\"address\": \"1 Electric Avenue\", \"number of floors\": 15, \"average floor area\":770, \"average floor height\":12},\n",
        "        {\"address\": \"9 Wall Street\", \"number of floors\": 80, \"average floor area\":900, \"average floor height\":10},\n",
        "    ]\n",
        "}\n",
        "\n",
        "Total_Floor_Area=\n"
      ]
    },
    {
      "cell_type": "markdown",
      "metadata": {
        "id": "PUw-VrsEERwG"
      },
      "source": [
        "### Question 2\n",
        "Using Python, calculate the following across all four buildings:\n",
        "- the total floor area\n",
        "- the average number of floors\n",
        "- the average height\n",
        "\n",
        "Use your previously created data structures to calculate these new values and print the results."
      ]
    },
    {
      "cell_type": "code",
      "execution_count": null,
      "metadata": {
        "id": "9oyEF7CrERwG"
      },
      "outputs": [],
      "source": [
        "# Try it out with code here!"
      ]
    },
    {
      "cell_type": "markdown",
      "metadata": {
        "id": "F-3K2mFteFbL"
      },
      "source": [
        "### Question 3\n",
        "Imagine you've got more data about a new building! Re-calculate your answers to questions 1 and 2 with the additional data as follow:\n",
        "\n",
        "| address | number of floors | average floor area | average floor height |\n",
        "| ---- | ---- | ---- | ---- |\n",
        "| 99 West Side Highway | 32 | 500 | 8 |"
      ]
    },
    {
      "cell_type": "code",
      "execution_count": null,
      "metadata": {
        "id": "AnzBRVwNeFwR"
      },
      "outputs": [],
      "source": [
        "# Try it out with code here!"
      ]
    },
    {
      "cell_type": "markdown",
      "metadata": {
        "id": "mZqW48fpERwH"
      },
      "source": [
        "### Submit your work\n",
        "Copy your answers for all five buildings into a spreadsheet, and upload them to Canvas!"
      ]
    }
  ],
  "metadata": {
    "colab": {
      "provenance": [],
      "toc_visible": true,
      "include_colab_link": true
    },
    "kernelspec": {
      "display_name": "venv",
      "language": "python",
      "name": "python3"
    },
    "language_info": {
      "codemirror_mode": {
        "name": "ipython",
        "version": 3
      },
      "file_extension": ".py",
      "mimetype": "text/x-python",
      "name": "python",
      "nbconvert_exporter": "python",
      "pygments_lexer": "ipython3",
      "version": "3.10.13"
    }
  },
  "nbformat": 4,
  "nbformat_minor": 0
}