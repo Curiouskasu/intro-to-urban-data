{
 "cells": [
  {
   "cell_type": "markdown",
   "metadata": {
    "colab_type": "text",
    "id": "view-in-github"
   },
   "source": [
    "<a href=\"https://colab.research.google.com/github/brian-ho/intro-to-urban-data/blob/main/Measure/M05_Rhino_files.ipynb\" target=\"_parent\"><img src=\"https://colab.research.google.com/assets/colab-badge.svg\" alt=\"Open In Colab\"/></a>"
   ]
  },
  {
   "cell_type": "markdown",
   "metadata": {
    "id": "dvAOjku63maG"
   },
   "source": [
    "# **05 Measure** Working with Rhino Files\n",
    "```\n",
    "    Class       ARCH 6131 Urban Design Methods / Skills / Tools 1\n",
    "                The Gensler Family AAP NYC Center\n",
    "                Fall 2023\n",
    "                Monday 3:30 PM to 6 PM\n",
    "\n",
    "    Instructor  Brian Ho\n",
    "                brian@brian-ho.io\n",
    "```\n",
    "\n",
    "This notebook shows how you can read and write Rhinoceros 3DM files _programmatically_. This does not rerplace your use of Rhino as a desktop app: you will always need to work more directly as a designer. But being able to open and edit Rhino files is a powerful way to connect your data to your choice of drawing and desiign.\n",
    "\n",
    "In this notebook will cover:\n",
    "- Reading a Rhino file\n",
    "- Accessing layers and geometry\n",
    "- Creating layers and geometry\n",
    "- Savinig a Rhino file"
   ]
  },
  {
   "cell_type": "markdown",
   "metadata": {
    "id": "XHnMFvYC6QdZ"
   },
   "source": [
    "Almost all the functionality in this notebook depends on a Python library from McNeel called  `rhino3dm`. This exposes functionality to read and write all geometry types, and is based on an open standard. You can learn more about it [here](https://github.com/mcneel/rhino3dm)."
   ]
  },
  {
   "cell_type": "markdown",
   "metadata": {
    "id": "e7tXGxZz83of"
   },
   "source": [
    "⚠ **`rhino3dm` requires a custom build to run on Colab**\n",
    "\n",
    "_If you are running this notebook on Colab, you'll need to install from a custom build I've created for the typical Colab environment using the cell below.  You will need to do this each time you open the notebook on a new Colab runtime. If you are runninig this locally you can install via `pip` and it's included in the repository's `requirements.txt`._"
   ]
  },
  {
   "cell_type": "code",
   "execution_count": 5,
   "metadata": {
    "colab": {
     "base_uri": "https://localhost:8080/"
    },
    "id": "AoaqkbOqsmZU",
    "outputId": "f9a2c268-04dd-4a10-84cb-774db7597f8f"
   },
   "outputs": [
    {
     "name": "stdout",
     "output_type": "stream",
     "text": [
      "\u001b[?25l     \u001b[90m━━━━━━━━━━━━━━━━━━━━━━━━━━━━━━━━━━━━━━━━\u001b[0m \u001b[32m0.0/5.8 MB\u001b[0m \u001b[31m?\u001b[0m eta \u001b[36m-:--:--\u001b[0m\r\u001b[2K     \u001b[91m━━━━━━━━\u001b[0m\u001b[91m╸\u001b[0m\u001b[90m━━━━━━━━━━━━━━━━━━━━━━━━━━━━━━━\u001b[0m \u001b[32m1.3/5.8 MB\u001b[0m \u001b[31m41.8 MB/s\u001b[0m eta \u001b[36m0:00:01\u001b[0m\r\u001b[2K     \u001b[91m━━━━━━━━━━━━━━━━━━━━━━━━━━━━━━\u001b[0m\u001b[90m╺\u001b[0m\u001b[90m━━━━━━━━━\u001b[0m \u001b[32m4.4/5.8 MB\u001b[0m \u001b[31m73.2 MB/s\u001b[0m eta \u001b[36m0:00:01\u001b[0m\r\u001b[2K     \u001b[91m━━━━━━━━━━━━━━━━━━━━━━━━━━━━━━━━━━━\u001b[0m\u001b[90m╺\u001b[0m\u001b[90m━━━━\u001b[0m \u001b[32m5.1/5.8 MB\u001b[0m \u001b[31m49.4 MB/s\u001b[0m eta \u001b[36m0:00:01\u001b[0m\r\u001b[2K     \u001b[90m━━━━━━━━━━━━━━━━━━━━━━━━━━━━━━━━━━━━━━━━\u001b[0m \u001b[32m5.8/5.8 MB\u001b[0m \u001b[31m44.4 MB/s\u001b[0m eta \u001b[36m0:00:00\u001b[0m\n",
      "\u001b[?25h"
     ]
    }
   ],
   "source": [
    "!pip install https://intro-to-urban-data.s3.amazonaws.com/rhino3dm-8.0.0b2-cp310-cp310-linux_x86_64.whl --quiet"
   ]
  },
  {
   "cell_type": "code",
   "execution_count": 6,
   "metadata": {
    "id": "HATE2fG8sxnT"
   },
   "outputs": [],
   "source": [
    "# After installing the custom build, you can import it into the notebook.\n",
    "import rhino3dm"
   ]
  },
  {
   "cell_type": "markdown",
   "metadata": {
    "id": "Skeqzu419KGa"
   },
   "source": [
    "Connect to drive to access your custom files."
   ]
  },
  {
   "cell_type": "code",
   "execution_count": 7,
   "metadata": {
    "colab": {
     "base_uri": "https://localhost:8080/"
    },
    "id": "E9znzvKhvwcG",
    "outputId": "b6890aef-04c8-4e75-a8bb-c195b26d92f4"
   },
   "outputs": [
    {
     "name": "stdout",
     "output_type": "stream",
     "text": [
      "Drive already mounted at /content/drive; to attempt to forcibly remount, call drive.mount(\"/content/drive\", force_remount=True).\n"
     ]
    }
   ],
   "source": [
    "from google.colab import drive\n",
    "\n",
    "drive.mount(\"/content/drive\")"
   ]
  },
  {
   "cell_type": "code",
   "execution_count": 8,
   "metadata": {
    "id": "Ih4UhskB9Pjs"
   },
   "outputs": [],
   "source": [
    "EXAMPLE_DATA_DIRECTORY = (\n",
    "    \"/content/drive/MyDrive/Cornell AAP - MSAUD/ARCH 6131/Example Data/\"\n",
    ")"
   ]
  },
  {
   "cell_type": "markdown",
   "metadata": {
    "id": "lKNYYN9d6R7E"
   },
   "source": [
    "## Reading a Rhino file\n",
    "Reading a Rhino file with `rhino3dm` is very easy! Much like reading a CSV or GeoJSON, you can use a helpful `Read()` method on a `File3dm` class.\n",
    "\n",
    "Note that `rhino3dm`'s convention is to use [camel case or Pascal case](https://en.wikipedia.org/wiki/Camel_case) for naming. This means words have a first uppercase letter, like `NurbsCurveKnotList`. It's more common to see [snake case](https://en.wikipedia.org/wiki/Snake_case) in Python, which looks something like: `read_csv`. You'll need to be sure to capiitalize correctly when using `rhino3dm`."
   ]
  },
  {
   "cell_type": "code",
   "execution_count": 9,
   "metadata": {
    "colab": {
     "base_uri": "https://localhost:8080/"
    },
    "id": "O_SzSgjotJKr",
    "outputId": "5c5627b5-0c54-44f5-a79a-ea0e346871bf"
   },
   "outputs": [
    {
     "name": "stdout",
     "output_type": "stream",
     "text": [
      "Reading Rhino file from: '/content/drive/MyDrive/Cornell AAP - MSAUD/ARCH 6131/Example Data/example.3dm'\n"
     ]
    }
   ],
   "source": [
    "# Let's read a 3DM file\n",
    "# File3dm.Read() takes a string path, so you'll need to make sure your path is created correctly\n",
    "rhino_file_path = EXAMPLE_DATA_DIRECTORY + \"example.3dm\"\n",
    "\n",
    "print(f\"Reading Rhino file from: '{EXAMPLE_DATA_DIRECTORY + 'example.3dm'}'\")\n",
    "example_3dm = rhino3dm.File3dm.Read(rhino_file_path)"
   ]
  },
  {
   "cell_type": "markdown",
   "metadata": {
    "id": "InonF8P4_qw1"
   },
   "source": [
    "If you run into errors here, check your `rhino_file_path`. The `File3dm.Read()` method takes only a string as its argument for where to look for the file, rather than a smarter `Path` object. This means you have to make sure the full path is correctly written with a forward slash (\"/\") between directories.\n",
    "\n",
    "There are some useful attributes on the `File3dm` class. You can read about them [here](https://mcneel.github.io/rhino3dm/python/api/File3dm.html). As you work with `rhino3dm` and other Python libraries, reading the docs will always be a good way to learn."
   ]
  },
  {
   "cell_type": "code",
   "execution_count": 10,
   "metadata": {
    "colab": {
     "base_uri": "https://localhost:8080/"
    },
    "id": "jwpYIzwytJ6M",
    "outputId": "1bdeb31c-d4eb-4ce6-d3e7-36c14458b160"
   },
   "outputs": [
    {
     "name": "stdout",
     "output_type": "stream",
     "text": [
      "Unit systen: UnitSystem.Meters\n",
      "Made by: Rhinoceros 7\n",
      "File details: Evaluation, build 2023-08-09\n"
     ]
    }
   ],
   "source": [
    "# There are some helpful attributes on the 3DM fiile\n",
    "print(f\"Unit systen: {example_3dm.Settings.ModelUnitSystem}\")\n",
    "print(f\"Made by: {example_3dm.ApplicationName}\")\n",
    "print(f\"File details: {example_3dm.ApplicationDetails}\")"
   ]
  },
  {
   "cell_type": "markdown",
   "metadata": {
    "id": "nK6wEycH6aNM"
   },
   "source": [
    "## Accessing layers and geometry\n",
    "So we've opened the file. What now? Usefully, we can take a look at more details about the data within the Rhino file. Let's try this with layers and geometry — the two essential building blocks for working with Rhino flies.\n",
    "\n",
    "Layers are stored on a `File3dmLayerTable` object attached to each `File3dm`. You can access it with the `Layer` property."
   ]
  },
  {
   "cell_type": "code",
   "execution_count": 11,
   "metadata": {
    "colab": {
     "base_uri": "https://localhost:8080/"
    },
    "id": "47EERpI6wMgV",
    "outputId": "cda4d642-a4db-4fe0-f888-ff9956b5d070"
   },
   "outputs": [
    {
     "data": {
      "text/plain": [
       "<rhino3dm._rhino3dm.File3dmLayerTable at 0x7bceb051ccb0>"
      ]
     },
     "execution_count": 11,
     "metadata": {},
     "output_type": "execute_result"
    }
   ],
   "source": [
    "# Let's look at the layers property on our Rhino flie.\n",
    "example_3dm.Layers"
   ]
  },
  {
   "cell_type": "markdown",
   "metadata": {
    "id": "PDlikZVdGCQt"
   },
   "source": [
    "`Layers` returns an iterable object. By itself, this isn't that useful to look at — it's a container for more data that we want.\n",
    "\n",
    "Since the `File3dmLayerTable` is an iterable object, we can use a simple `for` loop to check out its contents. This will give us a single `Layer` object for each loop of the iteration. We can then access more meaningful attributes and properties on the layer.\n",
    "\n",
    "I've printed out some below. Check out others in the [docs](https://mcneel.github.io/rhino3dm/python/api/Layer.html)."
   ]
  },
  {
   "cell_type": "code",
   "execution_count": 14,
   "metadata": {
    "colab": {
     "base_uri": "https://localhost:8080/"
    },
    "id": "Li9hSYWDw08y",
    "outputId": "f2fc18c5-0648-4a74-c60d-b01be787ea00"
   },
   "outputs": [
    {
     "name": "stdout",
     "output_type": "stream",
     "text": [
      "There are 5 layers in the Rhino file.\n",
      "\n",
      "Layer name: 'Default'\n",
      "Full path: 'Default'\n",
      "index: 0\n",
      "Visible: True\n",
      "Locked: False\n",
      "Color: (0, 0, 0, 255)\n",
      "\n",
      "Layer name: '3D Geometry'\n",
      "Full path: '3D Geometry'\n",
      "index: 1\n",
      "Visible: True\n",
      "Locked: False\n",
      "Color: (0, 0, 0, 255)\n",
      "\n",
      "Layer name: 'Volumes'\n",
      "Full path: '3D Geometry::Volumes'\n",
      "index: 2\n",
      "Visible: True\n",
      "Locked: False\n",
      "Color: (200, 0, 0, 255)\n",
      "\n",
      "Layer name: 'Surfaces'\n",
      "Full path: '3D Geometry::Surfaces'\n",
      "index: 3\n",
      "Visible: True\n",
      "Locked: False\n",
      "Color: (125, 38, 205, 255)\n",
      "\n",
      "Layer name: 'Curves'\n",
      "Full path: 'Curves'\n",
      "index: 4\n",
      "Visible: True\n",
      "Locked: False\n",
      "Color: (0, 0, 255, 255)\n",
      "\n"
     ]
    }
   ],
   "source": [
    "# Let's try iterating over the layers\n",
    "print(f\"There are {len(example_3dm.Layers)} layers in the Rhino file.\\n\")\n",
    "\n",
    "# For each layer, you can get more information\n",
    "for example_layer in example_3dm.Layers:\n",
    "    print(f\"Layer name: '{example_layer.Name}'\")\n",
    "    print(f\"Full path: '{example_layer.FullPath}'\")\n",
    "    print(f\"index: {example_layer.Index}\")\n",
    "    print(f\"Visible: {example_layer.Visible}\")\n",
    "    print(f\"Locked: {example_layer.Locked}\")\n",
    "    print(f\"Color: {example_layer.Color}\\n\")"
   ]
  },
  {
   "cell_type": "markdown",
   "metadata": {
    "id": "WC8hob374cA2"
   },
   "source": [
    "Try opening up the `example.3dm` file directly in Rhino and comparing it to the above. A few observations:\n",
    "\n",
    "- Nested Rhino layers have a \"::\" separator in them between child and parent layers. So \"Layer A::Layer B\" means Layer B is the child layer of Layer A\n",
    "- Each layer has a unique index\n",
    "- Layers have `bool` values (short for boolean) for their visible and locked states: e.g. they can be either `True` or `False`.\n",
    "- Layer colors are stored as tuples of RGBA type (look familiar?)"
   ]
  },
  {
   "cell_type": "markdown",
   "metadata": {
    "id": "ErUtcGOa5x9L"
   },
   "source": [
    "OK, now let's try to do the same with geometry. `File3dm.Objects` will give us `File3dmObjectTable`."
   ]
  },
  {
   "cell_type": "code",
   "execution_count": 16,
   "metadata": {
    "colab": {
     "base_uri": "https://localhost:8080/"
    },
    "id": "UTxfNbX15xb4",
    "outputId": "ffe37c61-f1b8-4d80-9d8d-50301dfa7dc5"
   },
   "outputs": [
    {
     "data": {
      "text/plain": [
       "<rhino3dm._rhino3dm.File3dmObjectTable at 0x7bce94dc4f30>"
      ]
     },
     "execution_count": 16,
     "metadata": {},
     "output_type": "execute_result"
    }
   ],
   "source": [
    "# Here's the object table\n",
    "example_3dm.Objects"
   ]
  },
  {
   "cell_type": "markdown",
   "metadata": {
    "id": "-wDvkPtR6ASP"
   },
   "source": [
    "As, before we can iterate over this object as if it were a list. Note that each `File3dmObject` has two main properties: `Attributes` and `Geometry`.\n",
    "\n",
    "Each stores related informatoin about the object."
   ]
  },
  {
   "cell_type": "code",
   "execution_count": 18,
   "metadata": {
    "colab": {
     "base_uri": "https://localhost:8080/"
    },
    "id": "bEybg_YmsyrU",
    "outputId": "1f90617b-b97b-489d-96d1-29381ce3c859"
   },
   "outputs": [
    {
     "name": "stdout",
     "output_type": "stream",
     "text": [
      "There are 7 objects in the Rhino file.\n",
      "\n",
      "Geometry type: ObjectType.Brep\n",
      "ID: 'aa10934a-ad97-4af1-b0fa-6b40e38ac23b'\n",
      "Layer: 'Surfaces'\n",
      "\n",
      "Geometry type: ObjectType.Curve\n",
      "ID: '9ede57be-3b5d-4ebd-ae6d-cbf61a330f9a'\n",
      "Layer: 'Curves'\n",
      "\n",
      "Geometry type: ObjectType.Curve\n",
      "ID: '3b83f854-68be-4268-8cbf-e897fa04f9b2'\n",
      "Layer: 'Curves'\n",
      "\n",
      "Geometry type: ObjectType.Brep\n",
      "ID: '5c417cf2-b825-45ae-ba4d-5aa8f7697b40'\n",
      "Layer: 'Volumes'\n",
      "\n",
      "Geometry type: ObjectType.Brep\n",
      "ID: '1211cc07-8074-4a13-99e6-038c139d3198'\n",
      "Layer: 'Surfaces'\n",
      "\n",
      "Geometry type: ObjectType.Curve\n",
      "ID: '6b3a5b45-af08-4cbe-9061-a01d2a48ff8e'\n",
      "Layer: 'Curves'\n",
      "\n",
      "Geometry type: ObjectType.Extrusion\n",
      "ID: 'c0c3e292-2bbd-460e-9435-44528602fc4c'\n",
      "Layer: 'Volumes'\n",
      "\n"
     ]
    }
   ],
   "source": [
    "# Let's try iterating over the geometry\n",
    "print(f\"There are {len(example_3dm.Objects)} objects in the Rhino file.\\n\")\n",
    "\n",
    "for example_object in example_3dm.Objects:\n",
    "    # For simpliciity, let's use variable to reference the attributes and geometry\n",
    "    attributes = example_object.Attributes\n",
    "    geometry = example_object.Geometry\n",
    "\n",
    "    print(f\"Geometry type: {geometry.ObjectType}\")\n",
    "    print(f\"ID: '{attributes.Id}'\")\n",
    "    # We can get the name of the layer using the layer's index\n",
    "    print(f\"Layer: '{example_3dm.Layers.FindIndex(attributes.LayerIndex).Name}'\\n\")"
   ]
  },
  {
   "cell_type": "markdown",
   "metadata": {
    "id": "aYnENZ0T6YUL"
   },
   "source": [
    "Pretty cool, right? So we can see that each object has a type, an ID and we can find its layer through the layer index."
   ]
  },
  {
   "cell_type": "markdown",
   "metadata": {
    "id": "TV8WBBbO6iaC"
   },
   "source": [
    "## Creating layers and geometry\n",
    "Now let's try it in the reverse"
   ]
  },
  {
   "cell_type": "code",
   "execution_count": 176,
   "metadata": {
    "id": "wrspg853w8d-"
   },
   "outputs": [],
   "source": [
    "# Make an empty filie\n",
    "new_3dm = rhino3dm.File3dm()"
   ]
  },
  {
   "cell_type": "code",
   "execution_count": 177,
   "metadata": {
    "colab": {
     "base_uri": "https://localhost:8080/"
    },
    "id": "Z0KsyMWR68VS",
    "outputId": "d6707084-2f68-479a-c2e1-a67cc6eab567"
   },
   "outputs": [
    {
     "name": "stdout",
     "output_type": "stream",
     "text": [
      "The file's units are in UnitSystem.Millimeters\n",
      "There are 0 layers in the file\n"
     ]
    }
   ],
   "source": [
    "# What's the unit system?\n",
    "print(f\"The file's units are in {new_3dm.Settings.ModelUnitSystem}\")\n",
    "\n",
    "# How many layers are in the empty file?\n",
    "print(f\"There are {len(new_3dm.Layers)} layers in the file\")"
   ]
  },
  {
   "cell_type": "code",
   "execution_count": 178,
   "metadata": {
    "id": "EXUmnZnP7ImV"
   },
   "outputs": [],
   "source": [
    "# Let's set the units appropriately\n",
    "new_3dm.Settings.ModelUnitSystem = rhino3dm.UnitSystem.Meters"
   ]
  },
  {
   "cell_type": "code",
   "execution_count": 179,
   "metadata": {
    "colab": {
     "base_uri": "https://localhost:8080/"
    },
    "id": "wTMZIiyO7Ih_",
    "outputId": "98900668-248c-4bd6-cd53-8b07e298a2b0"
   },
   "outputs": [
    {
     "data": {
      "text/plain": [
       "0"
      ]
     },
     "execution_count": 179,
     "metadata": {},
     "output_type": "execute_result"
    }
   ],
   "source": [
    "# Let's set a \"constant\" variable for red\n",
    "RED_RGBA = (255, 0, 0, 255)\n",
    "\n",
    "# Add the layer with a name and color\n",
    "new_3dm.Layers.AddLayer(\"My First Layer\", RED_RGBA)"
   ]
  },
  {
   "cell_type": "code",
   "execution_count": 180,
   "metadata": {
    "colab": {
     "base_uri": "https://localhost:8080/"
    },
    "id": "tPyH_RGz8TKI",
    "outputId": "90d59ffb-122f-4b52-99ac-76dd32217b18"
   },
   "outputs": [
    {
     "name": "stdout",
     "output_type": "stream",
     "text": [
      "There are 1 layers in the file\n",
      "Layers are: ['My First Layer at index 0']\n"
     ]
    }
   ],
   "source": [
    "# Check the results\n",
    "print(f\"There are {len(new_3dm.Layers)} layers in the file\")\n",
    "print(f\"Layers are: {[f'{l.FullPath} at index {l.Index}' for l in new_3dm.Layers]}\")"
   ]
  },
  {
   "cell_type": "markdown",
   "metadata": {
    "id": "ribbgX878s8P"
   },
   "source": [
    "Layers are more straightforward than geometry.\n",
    "\n",
    "Let's start with a simple `Point`."
   ]
  },
  {
   "cell_type": "code",
   "execution_count": 181,
   "metadata": {
    "id": "kjcUSgl78teo"
   },
   "outputs": [],
   "source": [
    "# Point\n",
    "# First, create a point geometry from a 3D location\n",
    "test_pt = rhino3dm.Point(rhino3dm.Point3d(0, 0, 0))"
   ]
  },
  {
   "cell_type": "code",
   "execution_count": 182,
   "metadata": {
    "id": "vdk2qrs99ON8"
   },
   "outputs": [],
   "source": [
    "# Let's define geometry attributes that we can re-use\n",
    "test_attributes = rhino3dm.ObjectAttributes()\n",
    "\n",
    "# This sets the attributes so that the objects is on the layer with index 0\n",
    "test_attributes.LayerIndex = 0"
   ]
  },
  {
   "cell_type": "code",
   "execution_count": 183,
   "metadata": {
    "colab": {
     "base_uri": "https://localhost:8080/"
    },
    "id": "sYtTipdM-0iT",
    "outputId": "165ac516-17b5-4a3b-96d5-4e4962e012da"
   },
   "outputs": [
    {
     "data": {
      "text/plain": [
       "UUID('5fef4c59-8954-b045-85bb-72b08628c622')"
      ]
     },
     "execution_count": 183,
     "metadata": {},
     "output_type": "execute_result"
    }
   ],
   "source": [
    "# Add the geometry and object to the Rhino file\n",
    "new_3dm.Objects.Add(test_pt, attributes)"
   ]
  },
  {
   "cell_type": "code",
   "execution_count": 184,
   "metadata": {
    "colab": {
     "base_uri": "https://localhost:8080/"
    },
    "id": "futSRF0H88A2",
    "outputId": "7a53118b-949a-49b0-aaf4-c120d1898d65"
   },
   "outputs": [
    {
     "name": "stdout",
     "output_type": "stream",
     "text": [
      "There are 1 objects in the Rhino file.\n"
     ]
    }
   ],
   "source": [
    "print(f\"There are {len(new_3dm.Objects)} objects in the Rhino file.\")"
   ]
  },
  {
   "cell_type": "markdown",
   "metadata": {
    "id": "vuULjs7ZGrGo"
   },
   "source": [
    "There's some nuance. You can only `Add()` geometry that is derived from `GeometryBase`:"
   ]
  },
  {
   "cell_type": "code",
   "execution_count": 185,
   "metadata": {
    "colab": {
     "base_uri": "https://localhost:8080/"
    },
    "id": "Whk6ZIZLC3EF",
    "outputId": "10b066d0-cec7-4468-e641-daa381e56907"
   },
   "outputs": [
    {
     "data": {
      "text/plain": [
       "[rhino3dm._rhino3dm.AnnotationBase,\n",
       " rhino3dm._rhino3dm.TextDot,\n",
       " rhino3dm._rhino3dm.InstanceReference,\n",
       " rhino3dm._rhino3dm.Hatch,\n",
       " rhino3dm._rhino3dm.PointCloud,\n",
       " rhino3dm._rhino3dm.Point,\n",
       " rhino3dm._rhino3dm.PointGrid,\n",
       " rhino3dm._rhino3dm.Curve,\n",
       " rhino3dm._rhino3dm.Mesh,\n",
       " rhino3dm._rhino3dm.Surface,\n",
       " rhino3dm._rhino3dm.SubD,\n",
       " rhino3dm._rhino3dm.Brep,\n",
       " rhino3dm._rhino3dm.Light]"
      ]
     },
     "execution_count": 185,
     "metadata": {},
     "output_type": "execute_result"
    }
   ],
   "source": [
    "rhino3dm.GeometryBase.__subclasses__()"
   ]
  },
  {
   "cell_type": "code",
   "execution_count": 186,
   "metadata": {
    "id": "Y-4U81i-8YmW"
   },
   "outputs": [],
   "source": [
    "# Line\n",
    "# The line requires two 3D locatons for its start and end\n",
    "test_line = rhino3dm.LineCurve(rhino3dm.Point3d(0, 0, 0), rhino3dm.Point3d(10, 10, 10))\n",
    "\n",
    "# Polylne\n",
    "# A polyline can be made from a list of points\n",
    "test_polyline = rhino3dm.Polyline(\n",
    "    [\n",
    "        rhino3dm.Point3d(0, 0, 0),\n",
    "        rhino3dm.Point3d(0, 10, 0),\n",
    "        rhino3dm.Point3d(0, 10, 10),\n",
    "        rhino3dm.Point3d(10, 10, 10),\n",
    "    ]\n",
    ").ToPolylineCurve()\n",
    "\n",
    "# Planar polyline curve\n",
    "# We create this by converting a polyline to a curve\n",
    "test_polyline_curve = rhino3dm.Polyline(\n",
    "    [\n",
    "        rhino3dm.Point3d(0, 0, 0),\n",
    "        rhino3dm.Point3d(-10, 0, 0),\n",
    "        rhino3dm.Point3d(-10, -10, 0),\n",
    "        rhino3dm.Point3d(0, -10, 0),\n",
    "        rhino3dm.Point3d(0, 0, 0),\n",
    "    ]\n",
    ").ToPolylineCurve()\n",
    "\n",
    "# Extrusion\n",
    "# Finally, you can make a 3D extrusion from a polyline curve\n",
    "test_extrusion = rhino3dm.Extrusion.Create(test_polyline_curve, height=20, cap=True)"
   ]
  },
  {
   "cell_type": "code",
   "execution_count": 187,
   "metadata": {
    "colab": {
     "base_uri": "https://localhost:8080/"
    },
    "id": "j2LrMaO9Ewfi",
    "outputId": "8e56c542-c624-4207-e5ea-ebe3e2bec4b5"
   },
   "outputs": [
    {
     "data": {
      "text/plain": [
       "False"
      ]
     },
     "execution_count": 187,
     "metadata": {},
     "output_type": "execute_result"
    }
   ],
   "source": [
    "test_polyline.IsClosed"
   ]
  },
  {
   "cell_type": "code",
   "execution_count": 188,
   "metadata": {
    "colab": {
     "base_uri": "https://localhost:8080/"
    },
    "id": "NVD64DR-F70R",
    "outputId": "7be37958-90b6-4cab-ee1a-2c82f0dc3157"
   },
   "outputs": [
    {
     "name": "stdout",
     "output_type": "stream",
     "text": [
      "Removing all other objects\n",
      "Removing object ID 5fef4c59-8954-b045-85bb-72b08628c622 ...\n"
     ]
    }
   ],
   "source": [
    "ids_to_delete = [o.Attributes.Id for o in new_3dm.Objects]\n",
    "\n",
    "print(\"Removing all other objects\")\n",
    "for id_to_delete in ids_to_delete:\n",
    "    print(f\"Removing object ID {id_to_delete} ...\")\n",
    "    new_3dm.Objects.Delete(id_to_delete)"
   ]
  },
  {
   "cell_type": "code",
   "execution_count": 190,
   "metadata": {
    "colab": {
     "base_uri": "https://localhost:8080/"
    },
    "id": "N_w3S7aMBFks",
    "outputId": "f1212938-0897-4a20-bbfa-27a4ca68960c"
   },
   "outputs": [
    {
     "name": "stdout",
     "output_type": "stream",
     "text": [
      "Adding ObjectType.Point to flie ...\n",
      "Adding ObjectType.Curve to flie ...\n",
      "Adding ObjectType.Curve to flie ...\n",
      "Adding ObjectType.Curve to flie ...\n",
      "Adding ObjectType.Extrusion to flie ...\n"
     ]
    }
   ],
   "source": [
    "objects_to_add = [\n",
    "    test_pt,\n",
    "    test_line,\n",
    "    test_polyline,\n",
    "    test_polyline_curve,\n",
    "    test_extrusion,\n",
    "]\n",
    "\n",
    "for object_to_add in objects_to_add:\n",
    "    print(f\"Adding {object_to_add.ObjectType} to flie ...\")\n",
    "    new_3dm.Objects.Add(object_to_add, attributes)"
   ]
  },
  {
   "cell_type": "code",
   "execution_count": 191,
   "metadata": {
    "colab": {
     "base_uri": "https://localhost:8080/"
    },
    "id": "eKUoCX6sD0P5",
    "outputId": "c8688d09-3ce7-4a8d-d7cd-4743160787e9"
   },
   "outputs": [
    {
     "name": "stdout",
     "output_type": "stream",
     "text": [
      "There are 5 objects in the Rhino file.\n"
     ]
    }
   ],
   "source": [
    "print(f\"There are {len(new_3dm.Objects)} objects in the Rhino file.\")"
   ]
  },
  {
   "cell_type": "markdown",
   "metadata": {
    "id": "w-zt-4wD6jWn"
   },
   "source": [
    "## Saving a Rhino flie\n",
    "Saving is simple. Be sure to set your version appropriately."
   ]
  },
  {
   "cell_type": "code",
   "execution_count": 192,
   "metadata": {
    "colab": {
     "base_uri": "https://localhost:8080/"
    },
    "id": "jMnKjhmn6lne",
    "outputId": "6be9d975-a065-4bdd-beef-8dbc7c94f61c"
   },
   "outputs": [
    {
     "data": {
      "text/plain": [
       "True"
      ]
     },
     "execution_count": 192,
     "metadata": {},
     "output_type": "execute_result"
    }
   ],
   "source": [
    "new_3dm.Write(\"new_example.3dm\", version=7)"
   ]
  },
  {
   "cell_type": "markdown",
   "metadata": {},
   "source": [
    "Should look like:\n",
    "\n",
    "![screenshot of Rhino]('Example Data/Screenshot 2023-09-03 at 6.11.31 PM.png')"
   ]
  },
  {
   "cell_type": "markdown",
   "metadata": {},
   "source": []
  }
 ],
 "metadata": {
  "colab": {
   "authorship_tag": "ABX9TyP+4rtyaFdhpvPBvYFIg6ff",
   "include_colab_link": true,
   "provenance": []
  },
  "kernelspec": {
   "display_name": "Python 3",
   "name": "python3"
  },
  "language_info": {
   "name": "python"
  }
 },
 "nbformat": 4,
 "nbformat_minor": 0
}
