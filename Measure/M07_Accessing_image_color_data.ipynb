{
 "cells": [
  {
   "cell_type": "markdown",
   "metadata": {
    "colab_type": "text",
    "id": "view-in-github"
   },
   "source": [
    "<a href=\"https://colab.research.google.com/github/brian-ho/intro-to-urban-data/blob/main/Measure/M07_Accessing_image_color_\n",
    "data.ipynb\" target=\"_parent\"><img src=\"https://colab.research.google.com/assets/colab-badge.svg\" alt=\"Open In Colab\"/></a>"
   ]
  },
  {
   "cell_type": "markdown",
   "metadata": {
    "id": "bTXBqkS5Vpf6"
   },
   "source": [
    "# **07 Measure** Accessing image color data\n",
    "```\n",
    "    Class       ARCH 6131 Urban Design Methods / Skills / Tools 1\n",
    "                The Gensler Family AAP NYC Center\n",
    "                Fall 2024\n",
    "                Monday 3:30 PM to 6 PM\n",
    "\n",
    "    Instructor  Brian Ho\n",
    "                brian@brian-ho.io\n",
    "```\n",
    "\n",
    "This notebook explores how to access image data: both the visuals (actual pixels) and associated metadata (information about the photo). It assumes you've understood the first few notebooks. In particular, how we load in external libraries and packages, the basics of data structures and functions, and reading and writing files.\n",
    "\n",
    "- Accessing color data\n",
    "- Accessing pixels"
   ]
  },
  {
   "cell_type": "markdown",
   "metadata": {
    "id": "UaGJzCtdzpt-"
   },
   "source": [
    "To open HEIC photos taken by iPhone, we'll need an additional package called `pillow-heif`."
   ]
  },
  {
   "cell_type": "code",
   "execution_count": null,
   "metadata": {
    "colab": {
     "base_uri": "https://localhost:8080/"
    },
    "id": "jN1uEQdbWhzB",
    "outputId": "14b04cc1-2f27-4410-9b18-a3c6863addf3"
   },
   "outputs": [],
   "source": [
    "!pip install pillow-heif --quiet"
   ]
  },
  {
   "cell_type": "markdown",
   "metadata": {
    "id": "xGpjn938zvQT"
   },
   "source": [
    "After installing the libraries, we'll need to import the right libraries into this notebook."
   ]
  },
  {
   "cell_type": "code",
   "execution_count": 1,
   "metadata": {
    "id": "HUm4jyijVlCE"
   },
   "outputs": [],
   "source": [
    "import PIL\n",
    "from pathlib import Path\n",
    "from pillow_heif import HeifImagePlugin"
   ]
  },
  {
   "cell_type": "markdown",
   "metadata": {
    "id": "yBHsTI9ez74k"
   },
   "source": [
    "... and connect to Google Drive and set the appropriate directory for the example data. You can find it here on [GitHub](https://github.com/brian-ho/intro-to-urban-data/tree/main/Measure/Example%20Data). Or, try this with your own data!"
   ]
  },
  {
   "cell_type": "code",
   "execution_count": null,
   "metadata": {
    "colab": {
     "base_uri": "https://localhost:8080/"
    },
    "id": "xgXc82Q3WYDg",
    "outputId": "5e92a4be-c9d5-47bf-eed8-155dd07d5e4a"
   },
   "outputs": [],
   "source": [
    "from google.colab import drive\n",
    "\n",
    "drive.mount(\"/content/drive\")"
   ]
  },
  {
   "cell_type": "markdown",
   "metadata": {},
   "source": [
    "Don't forget to set the right path for your files!"
   ]
  },
  {
   "cell_type": "code",
   "execution_count": 2,
   "metadata": {
    "id": "-DrfgZmjWg0v"
   },
   "outputs": [],
   "source": [
    "# If you're connected to Google Drive, your path might be something like: /content/drive/example/folder\n",
    "EXAMPLE_DATA_DIRECTORY = \"example_data\""
   ]
  },
  {
   "cell_type": "markdown",
   "metadata": {
    "id": "r6uxC3pd7lIM"
   },
   "source": [
    "## Color modes\n",
    "`PIL` lets you work with images in a few **color modes**. These define how the image represents color data for each pixel. If you've used software for printing (like InDesign), you may be familiar with CMYK representations — which `PIL` does support!\n",
    "\n",
    "In this course you may encounter:\n",
    "\n",
    "- `RGB` 3x8-bit pixels, true color\n",
    "- `RGBA` 4x8-bit pixels, true color with alpha (transparency)\n",
    "- `L` 8-bit pixels, usually greyscale\n",
    "- `1` 1-bit pixels, black and white, stored with one pixel per byte\n",
    "- `P` 8-bit pixels, using a palette (typically of 256 colors)\n",
    "\n",
    "\"8-bit pixels\" mean the colors for a pixel are stored in the file as sets of eight bits, each of which can be either 1 or 0.\n",
    "\n",
    "If you remember your powers of two, this means 8-bits can represent 2^8 = 256 unique values. And so 3x8-bit pixel means the color is stored as 3 consecutive 8-bit values. For that reason, when you work with say an image in `RGB` mode, you'll see that each red, green, or blue value is defined as an integer from 0 to 255. 8 bits are used quite a lot — and these are commonly referred to as \"bytes\"!"
   ]
  },
  {
   "cell_type": "code",
   "execution_count": 16,
   "metadata": {
    "colab": {
     "base_uri": "https://localhost:8080/",
     "height": 35
    },
    "id": "9Gs2SJJo8Ngw",
    "outputId": "d51a663a-35b8-4a58-def0-464555999cdc"
   },
   "outputs": [
    {
     "data": {
      "text/plain": [
       "'RGB'"
      ]
     },
     "execution_count": 16,
     "metadata": {},
     "output_type": "execute_result"
    }
   ],
   "source": [
    "# Let's check the mode of the smaller image we created earlier — it should be RGB\n",
    "smaller_img.mode"
   ]
  },
  {
   "cell_type": "markdown",
   "metadata": {},
   "source": [
    "In `RGB` mode, the color red is represented as (255, 0, 0): full value for red, and no value for green and blue.  Remember, we use a 0-index. So starting from 0 and ending with 255 gives exactly 256 values.\n",
    "\n",
    "`PIL` also makes it possible to convert this image to an alternative color mode. `L` mode is what you might think of as \"greyscale\", represented by 256 possible color from white to black."
   ]
  },
  {
   "cell_type": "code",
   "execution_count": 17,
   "metadata": {
    "colab": {
     "base_uri": "https://localhost:8080/",
     "height": 117
    },
    "id": "sfV7qfNqXIQG",
    "outputId": "0539d7e1-3be9-4c43-e241-4f71f271ca8a"
   },
   "outputs": [
    {
     "data": {
      "image/jpeg": "[encoded data removed]",
      "image/png": "[encoded data removed]",
      "text/plain": [
       "<PIL.Image.Image image mode=L size=100x100>"
      ]
     },
     "execution_count": 17,
     "metadata": {},
     "output_type": "execute_result"
    }
   ],
   "source": [
    "# Convert the image to a different color mode\n",
    "# \"L\" is for \"Luminance\", but it means there's one color channel\n",
    "# Which is equivalent to greyscale\n",
    "smaller_img.convert(\"L\")"
   ]
  },
  {
   "cell_type": "markdown",
   "metadata": {},
   "source": [
    "And finally, the `1` mode means each pixel in the image is represented with a _single bit_. This means every pixel can be displayed entirely as either black or white. This produces a \"dithering\" effect as `PIL` applies some algorithms to convert colors to black and white.\n",
    "\n",
    "This is a form of image data compression! Each pixel in `RGB` is represented by _three bytes_ with each byte being eight bits. In `L` mode, each pixel is represented by only _one bit_. So the files get much smaller, but you lose some meaning in the image. We'll play with this tension between summarizing data concisely and seeing its full detail and color throughout the class."
   ]
  },
  {
   "cell_type": "code",
   "execution_count": 18,
   "metadata": {
    "colab": {
     "base_uri": "https://localhost:8080/",
     "height": 117
    },
    "id": "ia7vDwc66ma8",
    "outputId": "333267ed-376c-4a49-f60e-55ec2c05f838"
   },
   "outputs": [
    {
     "data": {
      "image/jpeg": "[encoded data removed]",
      "image/png": "[encoded data removed]",
      "text/plain": [
       "<PIL.Image.Image image mode=1 size=100x100>"
      ]
     },
     "execution_count": 18,
     "metadata": {},
     "output_type": "execute_result"
    }
   ],
   "source": [
    "# Black and white — notice the dithering effect\n",
    "smaller_img.convert(\"1\")"
   ]
  },
  {
   "cell_type": "markdown",
   "metadata": {},
   "source": [
    "Can you estimate roughly how much smaller — in terms of file size — an image is, when you convert from `RGB` to `L` mode?"
   ]
  },
  {
   "cell_type": "markdown",
   "metadata": {
    "id": "iz5TLLh054zp"
   },
   "source": [
    "## Histograms\n",
    "`PIL` can let you analyze color frequency in an image which is another way to explore the data. Let's start with a histogram — a kind of data visualization that shows the frequency of values in a dataset.\n",
    "\n",
    "In this case, we want to show how many pixels have each of the 256 values of red, green, and blue. This would let us understand: are those three components colors relatively matched? Is there a bias toward one in particular?\n",
    "\n",
    "`PIL` has a nifty `Image.histogram()` method. This returns a list which is 256 x 3 = 768 values long. The list has (in order) the number of pixels for each value from 0 to 255 in first the red, then green, then blue colors. So something like:\n",
    "\n",
    "```\n",
    "[\n",
    "    9934, # 9934 pixels have an R value of 0 \n",
    "    5430, # 5430 pixels have an R value of 1\n",
    "    ...\n",
    "]\n",
    "```"
   ]
  },
  {
   "cell_type": "code",
   "execution_count": 19,
   "metadata": {
    "colab": {
     "base_uri": "https://localhost:8080/",
     "height": 451
    },
    "id": "cQ5Bp6kR4Ylv",
    "outputId": "42978665-5ef1-46f5-d676-8e572678ba1e"
   },
   "outputs": [
    {
     "name": "stdout",
     "output_type": "stream",
     "text": [
      "There are 768 items in the list, or 256 x 3.\n",
      "The first item looks like 88031 — there are 88031 pixels with a red value of 0\n",
      "The first five items look like [88031, 31704, 27448, 25389, 23617, 22856, 22783, 22854, 23327, 23754]\n"
     ]
    }
   ],
   "source": [
    "# Call the histogram method to get a list of frequency values\n",
    "hist = img.histogram()\n",
    "\n",
    "print(f\"There are {len(hist)} items in the list, or 256 x 3.\")\n",
    "print(\n",
    "    f\"The first item looks like {hist[0]} — there are {hist[0]} pixels with a red value of 0\"\n",
    ")\n",
    "\n",
    "print(f\"The first five items look like {hist[:10]}\")"
   ]
  },
  {
   "cell_type": "markdown",
   "metadata": {},
   "source": [
    "OK, so we have our data. In order to plot it, we'll use `pandas` which provides some simply utility methods to do so.\n",
    "\n",
    "First, we need to make a DataFrame, or 2D table from the data. Here we use a range to get a slice from a list — `hist[:256]` gets all the values from the 1st (0) to the 256th (255)."
   ]
  },
  {
   "cell_type": "code",
   "execution_count": 20,
   "metadata": {},
   "outputs": [
    {
     "data": {
      "text/html": [
       "<div>\n",
       "<style scoped>\n",
       "    .dataframe tbody tr th:only-of-type {\n",
       "        vertical-align: middle;\n",
       "    }\n",
       "\n",
       "    .dataframe tbody tr th {\n",
       "        vertical-align: top;\n",
       "    }\n",
       "\n",
       "    .dataframe thead th {\n",
       "        text-align: right;\n",
       "    }\n",
       "</style>\n",
       "<table border=\"1\" class=\"dataframe\">\n",
       "  <thead>\n",
       "    <tr style=\"text-align: right;\">\n",
       "      <th></th>\n",
       "      <th>red</th>\n",
       "      <th>green</th>\n",
       "      <th>blue</th>\n",
       "    </tr>\n",
       "  </thead>\n",
       "  <tbody>\n",
       "    <tr>\n",
       "      <th>0</th>\n",
       "      <td>88031</td>\n",
       "      <td>27523</td>\n",
       "      <td>23253</td>\n",
       "    </tr>\n",
       "    <tr>\n",
       "      <th>1</th>\n",
       "      <td>31704</td>\n",
       "      <td>27738</td>\n",
       "      <td>8172</td>\n",
       "    </tr>\n",
       "    <tr>\n",
       "      <th>2</th>\n",
       "      <td>27448</td>\n",
       "      <td>26847</td>\n",
       "      <td>17802</td>\n",
       "    </tr>\n",
       "    <tr>\n",
       "      <th>3</th>\n",
       "      <td>25389</td>\n",
       "      <td>24444</td>\n",
       "      <td>16478</td>\n",
       "    </tr>\n",
       "    <tr>\n",
       "      <th>4</th>\n",
       "      <td>23617</td>\n",
       "      <td>21173</td>\n",
       "      <td>21003</td>\n",
       "    </tr>\n",
       "    <tr>\n",
       "      <th>...</th>\n",
       "      <td>...</td>\n",
       "      <td>...</td>\n",
       "      <td>...</td>\n",
       "    </tr>\n",
       "    <tr>\n",
       "      <th>251</th>\n",
       "      <td>4023</td>\n",
       "      <td>2650</td>\n",
       "      <td>11841</td>\n",
       "    </tr>\n",
       "    <tr>\n",
       "      <th>252</th>\n",
       "      <td>6465</td>\n",
       "      <td>2424</td>\n",
       "      <td>10495</td>\n",
       "    </tr>\n",
       "    <tr>\n",
       "      <th>253</th>\n",
       "      <td>3304</td>\n",
       "      <td>2733</td>\n",
       "      <td>20749</td>\n",
       "    </tr>\n",
       "    <tr>\n",
       "      <th>254</th>\n",
       "      <td>117428</td>\n",
       "      <td>5024</td>\n",
       "      <td>8440</td>\n",
       "    </tr>\n",
       "    <tr>\n",
       "      <th>255</th>\n",
       "      <td>256275</td>\n",
       "      <td>383777</td>\n",
       "      <td>374672</td>\n",
       "    </tr>\n",
       "  </tbody>\n",
       "</table>\n",
       "<p>256 rows × 3 columns</p>\n",
       "</div>"
      ],
      "text/plain": [
       "        red   green    blue\n",
       "0     88031   27523   23253\n",
       "1     31704   27738    8172\n",
       "2     27448   26847   17802\n",
       "3     25389   24444   16478\n",
       "4     23617   21173   21003\n",
       "..      ...     ...     ...\n",
       "251    4023    2650   11841\n",
       "252    6465    2424   10495\n",
       "253    3304    2733   20749\n",
       "254  117428    5024    8440\n",
       "255  256275  383777  374672\n",
       "\n",
       "[256 rows x 3 columns]"
      ]
     },
     "execution_count": 20,
     "metadata": {},
     "output_type": "execute_result"
    }
   ],
   "source": [
    "# We'll need pandas to make a DataFrame, or 2D table\n",
    "import pandas as pd\n",
    "\n",
    "# This creates a table with 3 columns, where each column is one of the R, G, or B colors\n",
    "# The rows represent the number of pixels that have that R, G, or B value\n",
    "# e.g. the 2nd row indicates how many pixels have R, G, and B values of 2.\n",
    "df = pd.DataFrame({\"red\": hist[:256], \"green\": hist[256:512], \"blue\": hist[512:]})\n",
    "df"
   ]
  },
  {
   "cell_type": "markdown",
   "metadata": {},
   "source": [
    "Finally, we can plot the data table. This version of a histogram is a line graph, which shows one line for each color, and connects all the values between 0 and 255.\n",
    "\n",
    "Look at the result — what does it mean? There's a large spike in values where R, G, or B equal 255. Why might that be? Hint: (255, 255, 255) is the RGB color for white."
   ]
  },
  {
   "cell_type": "code",
   "execution_count": 21,
   "metadata": {},
   "outputs": [
    {
     "data": {
      "text/plain": [
       "<Axes: >"
      ]
     },
     "execution_count": 21,
     "metadata": {},
     "output_type": "execute_result"
    },
    {
     "data": {
      "image/png": "[encoded data removed]",
      "text/plain": [
       "<Figure size 640x480 with 1 Axes>"
      ]
     },
     "metadata": {},
     "output_type": "display_data"
    }
   ],
   "source": [
    "# Plot the histogram as a line frequency chart\n",
    "df.plot(color=df.columns)"
   ]
  },
  {
   "cell_type": "markdown",
   "metadata": {},
   "source": [
    "Of course, you can also plot this as an area chart!"
   ]
  },
  {
   "cell_type": "code",
   "execution_count": 22,
   "metadata": {},
   "outputs": [
    {
     "data": {
      "text/plain": [
       "<Axes: >"
      ]
     },
     "execution_count": 22,
     "metadata": {},
     "output_type": "execute_result"
    },
    {
     "data": {
      "image/png": "[encoded data removed]",
      "text/plain": [
       "<Figure size 640x480 with 1 Axes>"
      ]
     },
     "metadata": {},
     "output_type": "display_data"
    }
   ],
   "source": [
    "# Plot the histogram as a bar chart\n",
    "df.plot.area(color=df.columns)"
   ]
  },
  {
   "cell_type": "markdown",
   "metadata": {
    "id": "tYno_-bZ78JX"
   },
   "source": [
    "## Color frequency\n",
    "But what if you wanted to look at the actual colors, not just their R, G, and B channels? You can do that too!\n",
    "\n",
    "This is a bit more complex. In the `RGB` mode, there are 256^3 = 16,777,216 possible colors. An image of 2000 px x 1500 px will only have 3,000,000 pixels. Trying to count the the number of pixels with a specific color might get you a very small count for any given color — and lots of zeros.\n",
    "\n",
    "Instead, we'll want to do some compression that groups colors into a smaller, limited set of colors.\n",
    "\n",
    "`PIL` has a dedicated `P` mode — for palette — that does exactly that! It reduces your image to 256 unique colors, which are stored as a palette. Then, each pixel gets a single byte (eight bits) that indicates which color in the palette it belongs to."
   ]
  },
  {
   "cell_type": "code",
   "execution_count": 25,
   "metadata": {},
   "outputs": [
    {
     "data": {
      "image/jpeg": "[encoded data removed]",
      "image/png": "[encoded data removed]",
      "text/plain": [
       "<PIL.Image.Image image mode=RGB size=100x100>"
      ]
     },
     "execution_count": 25,
     "metadata": {},
     "output_type": "execute_result"
    }
   ],
   "source": [
    "# Use our smaller image\n",
    "smaller_img"
   ]
  },
  {
   "cell_type": "code",
   "execution_count": 24,
   "metadata": {
    "id": "oM3ZeUdZ8Ac2"
   },
   "outputs": [],
   "source": [
    "# Let's convert our RGB image to the P mode\n",
    "p_img = smaller_img.convert(\"P\")"
   ]
  },
  {
   "cell_type": "markdown",
   "metadata": {},
   "source": [
    "We can use the `Image.getcolors()` method, which returns a list of pairs of values. Each pair is the count and color in the palette (0 to 255). So it looks something like:\n",
    "\n",
    "```\n",
    "[\n",
    "    (10, 1), # ten pixels have the 2nd color in the palette\n",
    "    (100, 0), # one hundred pixels have the 1st color iin the palette\n",
    "    ...\n",
    "]\n",
    "```"
   ]
  },
  {
   "cell_type": "code",
   "execution_count": 26,
   "metadata": {},
   "outputs": [
    {
     "data": {
      "text/plain": [
       "[(85, 0),\n",
       " (22, 11),\n",
       " (38, 16),\n",
       " (40, 17),\n",
       " (61, 46),\n",
       " (42, 47),\n",
       " (120, 52),\n",
       " (1475, 53),\n",
       " (305, 54),\n",
       " (143, 59),\n",
       " (505, 60),\n",
       " (19, 61),\n",
       " (3, 66),\n",
       " (2, 67),\n",
       " (1, 88),\n",
       " (273, 89),\n",
       " (190, 90),\n",
       " (3, 91),\n",
       " (208, 95),\n",
       " (2379, 96),\n",
       " (426, 97),\n",
       " (149, 102),\n",
       " (245, 103),\n",
       " (9, 104),\n",
       " (1, 108),\n",
       " (2, 109),\n",
       " (1, 110),\n",
       " (2, 111),\n",
       " (1, 125),\n",
       " (162, 132),\n",
       " (94, 133),\n",
       " (127, 138),\n",
       " (1014, 139),\n",
       " (93, 140),\n",
       " (1, 144),\n",
       " (80, 145),\n",
       " (164, 146),\n",
       " (3, 147),\n",
       " (97, 175),\n",
       " (50, 176),\n",
       " (80, 181),\n",
       " (647, 182),\n",
       " (44, 183),\n",
       " (45, 188),\n",
       " (22, 189),\n",
       " (84, 218),\n",
       " (19, 219),\n",
       " (73, 224),\n",
       " (351, 225)]"
      ]
     },
     "execution_count": 26,
     "metadata": {},
     "output_type": "execute_result"
    }
   ],
   "source": [
    "# Get the number of pixels for each color in the palette\n",
    "color_counts = p_img.getcolors()\n",
    "color_counts"
   ]
  },
  {
   "cell_type": "markdown",
   "metadata": {},
   "source": [
    "Next, we make a new `pandas` DataFrame from this data. This time, we start with two columns: `count` for the number of pixels and `color_index` for the color value in the palette."
   ]
  },
  {
   "cell_type": "code",
   "execution_count": 27,
   "metadata": {
    "colab": {
     "base_uri": "https://localhost:8080/",
     "height": 1000
    },
    "id": "RNVVUSyq8G5f",
    "outputId": "eb93d1f2-bc6b-49c1-ffb8-630a404216e8"
   },
   "outputs": [
    {
     "name": "stdout",
     "output_type": "stream",
     "text": [
      "The smallest color index is 0\n",
      "The largest color index is 225\n",
      "There are 10000 total pixels in the table. The image is (100, 100) in size.\n"
     ]
    },
    {
     "data": {
      "text/html": [
       "<div>\n",
       "<style scoped>\n",
       "    .dataframe tbody tr th:only-of-type {\n",
       "        vertical-align: middle;\n",
       "    }\n",
       "\n",
       "    .dataframe tbody tr th {\n",
       "        vertical-align: top;\n",
       "    }\n",
       "\n",
       "    .dataframe thead th {\n",
       "        text-align: right;\n",
       "    }\n",
       "</style>\n",
       "<table border=\"1\" class=\"dataframe\">\n",
       "  <thead>\n",
       "    <tr style=\"text-align: right;\">\n",
       "      <th></th>\n",
       "      <th>count</th>\n",
       "      <th>color_index</th>\n",
       "    </tr>\n",
       "  </thead>\n",
       "  <tbody>\n",
       "    <tr>\n",
       "      <th>0</th>\n",
       "      <td>85</td>\n",
       "      <td>0</td>\n",
       "    </tr>\n",
       "    <tr>\n",
       "      <th>1</th>\n",
       "      <td>22</td>\n",
       "      <td>11</td>\n",
       "    </tr>\n",
       "    <tr>\n",
       "      <th>2</th>\n",
       "      <td>38</td>\n",
       "      <td>16</td>\n",
       "    </tr>\n",
       "    <tr>\n",
       "      <th>3</th>\n",
       "      <td>40</td>\n",
       "      <td>17</td>\n",
       "    </tr>\n",
       "    <tr>\n",
       "      <th>4</th>\n",
       "      <td>61</td>\n",
       "      <td>46</td>\n",
       "    </tr>\n",
       "    <tr>\n",
       "      <th>5</th>\n",
       "      <td>42</td>\n",
       "      <td>47</td>\n",
       "    </tr>\n",
       "    <tr>\n",
       "      <th>6</th>\n",
       "      <td>120</td>\n",
       "      <td>52</td>\n",
       "    </tr>\n",
       "    <tr>\n",
       "      <th>7</th>\n",
       "      <td>1475</td>\n",
       "      <td>53</td>\n",
       "    </tr>\n",
       "    <tr>\n",
       "      <th>8</th>\n",
       "      <td>305</td>\n",
       "      <td>54</td>\n",
       "    </tr>\n",
       "    <tr>\n",
       "      <th>9</th>\n",
       "      <td>143</td>\n",
       "      <td>59</td>\n",
       "    </tr>\n",
       "    <tr>\n",
       "      <th>10</th>\n",
       "      <td>505</td>\n",
       "      <td>60</td>\n",
       "    </tr>\n",
       "    <tr>\n",
       "      <th>11</th>\n",
       "      <td>19</td>\n",
       "      <td>61</td>\n",
       "    </tr>\n",
       "    <tr>\n",
       "      <th>12</th>\n",
       "      <td>3</td>\n",
       "      <td>66</td>\n",
       "    </tr>\n",
       "    <tr>\n",
       "      <th>13</th>\n",
       "      <td>2</td>\n",
       "      <td>67</td>\n",
       "    </tr>\n",
       "    <tr>\n",
       "      <th>14</th>\n",
       "      <td>1</td>\n",
       "      <td>88</td>\n",
       "    </tr>\n",
       "    <tr>\n",
       "      <th>15</th>\n",
       "      <td>273</td>\n",
       "      <td>89</td>\n",
       "    </tr>\n",
       "    <tr>\n",
       "      <th>16</th>\n",
       "      <td>190</td>\n",
       "      <td>90</td>\n",
       "    </tr>\n",
       "    <tr>\n",
       "      <th>17</th>\n",
       "      <td>3</td>\n",
       "      <td>91</td>\n",
       "    </tr>\n",
       "    <tr>\n",
       "      <th>18</th>\n",
       "      <td>208</td>\n",
       "      <td>95</td>\n",
       "    </tr>\n",
       "    <tr>\n",
       "      <th>19</th>\n",
       "      <td>2379</td>\n",
       "      <td>96</td>\n",
       "    </tr>\n",
       "    <tr>\n",
       "      <th>20</th>\n",
       "      <td>426</td>\n",
       "      <td>97</td>\n",
       "    </tr>\n",
       "    <tr>\n",
       "      <th>21</th>\n",
       "      <td>149</td>\n",
       "      <td>102</td>\n",
       "    </tr>\n",
       "    <tr>\n",
       "      <th>22</th>\n",
       "      <td>245</td>\n",
       "      <td>103</td>\n",
       "    </tr>\n",
       "    <tr>\n",
       "      <th>23</th>\n",
       "      <td>9</td>\n",
       "      <td>104</td>\n",
       "    </tr>\n",
       "    <tr>\n",
       "      <th>24</th>\n",
       "      <td>1</td>\n",
       "      <td>108</td>\n",
       "    </tr>\n",
       "    <tr>\n",
       "      <th>25</th>\n",
       "      <td>2</td>\n",
       "      <td>109</td>\n",
       "    </tr>\n",
       "    <tr>\n",
       "      <th>26</th>\n",
       "      <td>1</td>\n",
       "      <td>110</td>\n",
       "    </tr>\n",
       "    <tr>\n",
       "      <th>27</th>\n",
       "      <td>2</td>\n",
       "      <td>111</td>\n",
       "    </tr>\n",
       "    <tr>\n",
       "      <th>28</th>\n",
       "      <td>1</td>\n",
       "      <td>125</td>\n",
       "    </tr>\n",
       "    <tr>\n",
       "      <th>29</th>\n",
       "      <td>162</td>\n",
       "      <td>132</td>\n",
       "    </tr>\n",
       "    <tr>\n",
       "      <th>30</th>\n",
       "      <td>94</td>\n",
       "      <td>133</td>\n",
       "    </tr>\n",
       "    <tr>\n",
       "      <th>31</th>\n",
       "      <td>127</td>\n",
       "      <td>138</td>\n",
       "    </tr>\n",
       "    <tr>\n",
       "      <th>32</th>\n",
       "      <td>1014</td>\n",
       "      <td>139</td>\n",
       "    </tr>\n",
       "    <tr>\n",
       "      <th>33</th>\n",
       "      <td>93</td>\n",
       "      <td>140</td>\n",
       "    </tr>\n",
       "    <tr>\n",
       "      <th>34</th>\n",
       "      <td>1</td>\n",
       "      <td>144</td>\n",
       "    </tr>\n",
       "    <tr>\n",
       "      <th>35</th>\n",
       "      <td>80</td>\n",
       "      <td>145</td>\n",
       "    </tr>\n",
       "    <tr>\n",
       "      <th>36</th>\n",
       "      <td>164</td>\n",
       "      <td>146</td>\n",
       "    </tr>\n",
       "    <tr>\n",
       "      <th>37</th>\n",
       "      <td>3</td>\n",
       "      <td>147</td>\n",
       "    </tr>\n",
       "    <tr>\n",
       "      <th>38</th>\n",
       "      <td>97</td>\n",
       "      <td>175</td>\n",
       "    </tr>\n",
       "    <tr>\n",
       "      <th>39</th>\n",
       "      <td>50</td>\n",
       "      <td>176</td>\n",
       "    </tr>\n",
       "    <tr>\n",
       "      <th>40</th>\n",
       "      <td>80</td>\n",
       "      <td>181</td>\n",
       "    </tr>\n",
       "    <tr>\n",
       "      <th>41</th>\n",
       "      <td>647</td>\n",
       "      <td>182</td>\n",
       "    </tr>\n",
       "    <tr>\n",
       "      <th>42</th>\n",
       "      <td>44</td>\n",
       "      <td>183</td>\n",
       "    </tr>\n",
       "    <tr>\n",
       "      <th>43</th>\n",
       "      <td>45</td>\n",
       "      <td>188</td>\n",
       "    </tr>\n",
       "    <tr>\n",
       "      <th>44</th>\n",
       "      <td>22</td>\n",
       "      <td>189</td>\n",
       "    </tr>\n",
       "    <tr>\n",
       "      <th>45</th>\n",
       "      <td>84</td>\n",
       "      <td>218</td>\n",
       "    </tr>\n",
       "    <tr>\n",
       "      <th>46</th>\n",
       "      <td>19</td>\n",
       "      <td>219</td>\n",
       "    </tr>\n",
       "    <tr>\n",
       "      <th>47</th>\n",
       "      <td>73</td>\n",
       "      <td>224</td>\n",
       "    </tr>\n",
       "    <tr>\n",
       "      <th>48</th>\n",
       "      <td>351</td>\n",
       "      <td>225</td>\n",
       "    </tr>\n",
       "  </tbody>\n",
       "</table>\n",
       "</div>"
      ],
      "text/plain": [
       "    count  color_index\n",
       "0      85            0\n",
       "1      22           11\n",
       "2      38           16\n",
       "3      40           17\n",
       "4      61           46\n",
       "5      42           47\n",
       "6     120           52\n",
       "7    1475           53\n",
       "8     305           54\n",
       "9     143           59\n",
       "10    505           60\n",
       "11     19           61\n",
       "12      3           66\n",
       "13      2           67\n",
       "14      1           88\n",
       "15    273           89\n",
       "16    190           90\n",
       "17      3           91\n",
       "18    208           95\n",
       "19   2379           96\n",
       "20    426           97\n",
       "21    149          102\n",
       "22    245          103\n",
       "23      9          104\n",
       "24      1          108\n",
       "25      2          109\n",
       "26      1          110\n",
       "27      2          111\n",
       "28      1          125\n",
       "29    162          132\n",
       "30     94          133\n",
       "31    127          138\n",
       "32   1014          139\n",
       "33     93          140\n",
       "34      1          144\n",
       "35     80          145\n",
       "36    164          146\n",
       "37      3          147\n",
       "38     97          175\n",
       "39     50          176\n",
       "40     80          181\n",
       "41    647          182\n",
       "42     44          183\n",
       "43     45          188\n",
       "44     22          189\n",
       "45     84          218\n",
       "46     19          219\n",
       "47     73          224\n",
       "48    351          225"
      ]
     },
     "execution_count": 27,
     "metadata": {},
     "output_type": "execute_result"
    }
   ],
   "source": [
    "# Make a pandas DataFrame (2D table)\n",
    "df = pd.DataFrame(color_counts, columns=[\"count\", \"color_index\"])\n",
    "\n",
    "# Here are a few more DataFrame methods to check out work so far\n",
    "print(f\"The smallest color index is {df['color_index'].min()}\")\n",
    "print(f\"The largest color index is {df['color_index'].max()}\")\n",
    "print(\n",
    "    f\"There are {df['count'].sum()} total pixels in the table. The image is {p_img.size} in size.\"\n",
    ")\n",
    "df"
   ]
  },
  {
   "cell_type": "markdown",
   "metadata": {},
   "source": [
    "In order to plot this chart with colors, we need to create a _third_ column `color` with the actual R, G, B values. We can do this with a `DataFrame.apply()` function. For this notebook, you just need to run the cell. Later in the course we'll learn to leverage `apply()` functions to perform operations on your data!"
   ]
  },
  {
   "cell_type": "code",
   "execution_count": 28,
   "metadata": {},
   "outputs": [
    {
     "data": {
      "text/html": [
       "<div>\n",
       "<style scoped>\n",
       "    .dataframe tbody tr th:only-of-type {\n",
       "        vertical-align: middle;\n",
       "    }\n",
       "\n",
       "    .dataframe tbody tr th {\n",
       "        vertical-align: top;\n",
       "    }\n",
       "\n",
       "    .dataframe thead th {\n",
       "        text-align: right;\n",
       "    }\n",
       "</style>\n",
       "<table border=\"1\" class=\"dataframe\">\n",
       "  <thead>\n",
       "    <tr style=\"text-align: right;\">\n",
       "      <th></th>\n",
       "      <th>count</th>\n",
       "      <th>color_index</th>\n",
       "      <th>color</th>\n",
       "    </tr>\n",
       "  </thead>\n",
       "  <tbody>\n",
       "    <tr>\n",
       "      <th>0</th>\n",
       "      <td>85</td>\n",
       "      <td>0</td>\n",
       "      <td>[0.0, 0.0, 0.0]</td>\n",
       "    </tr>\n",
       "    <tr>\n",
       "      <th>1</th>\n",
       "      <td>22</td>\n",
       "      <td>11</td>\n",
       "      <td>[0.2, 0.0, 0.0]</td>\n",
       "    </tr>\n",
       "    <tr>\n",
       "      <th>2</th>\n",
       "      <td>38</td>\n",
       "      <td>16</td>\n",
       "      <td>[0.0, 0.2, 0.0]</td>\n",
       "    </tr>\n",
       "    <tr>\n",
       "      <th>3</th>\n",
       "      <td>40</td>\n",
       "      <td>17</td>\n",
       "      <td>[0.2, 0.2, 0.0]</td>\n",
       "    </tr>\n",
       "    <tr>\n",
       "      <th>4</th>\n",
       "      <td>61</td>\n",
       "      <td>46</td>\n",
       "      <td>[0.0, 0.0, 0.2]</td>\n",
       "    </tr>\n",
       "    <tr>\n",
       "      <th>5</th>\n",
       "      <td>42</td>\n",
       "      <td>47</td>\n",
       "      <td>[0.2, 0.0, 0.2]</td>\n",
       "    </tr>\n",
       "    <tr>\n",
       "      <th>6</th>\n",
       "      <td>120</td>\n",
       "      <td>52</td>\n",
       "      <td>[0.0, 0.2, 0.2]</td>\n",
       "    </tr>\n",
       "    <tr>\n",
       "      <th>7</th>\n",
       "      <td>1475</td>\n",
       "      <td>53</td>\n",
       "      <td>[0.2, 0.2, 0.2]</td>\n",
       "    </tr>\n",
       "    <tr>\n",
       "      <th>8</th>\n",
       "      <td>305</td>\n",
       "      <td>54</td>\n",
       "      <td>[0.4, 0.2, 0.2]</td>\n",
       "    </tr>\n",
       "    <tr>\n",
       "      <th>9</th>\n",
       "      <td>143</td>\n",
       "      <td>59</td>\n",
       "      <td>[0.2, 0.4, 0.2]</td>\n",
       "    </tr>\n",
       "    <tr>\n",
       "      <th>10</th>\n",
       "      <td>505</td>\n",
       "      <td>60</td>\n",
       "      <td>[0.4, 0.4, 0.2]</td>\n",
       "    </tr>\n",
       "    <tr>\n",
       "      <th>11</th>\n",
       "      <td>19</td>\n",
       "      <td>61</td>\n",
       "      <td>[0.6, 0.4, 0.2]</td>\n",
       "    </tr>\n",
       "    <tr>\n",
       "      <th>12</th>\n",
       "      <td>3</td>\n",
       "      <td>66</td>\n",
       "      <td>[0.4, 0.6, 0.2]</td>\n",
       "    </tr>\n",
       "    <tr>\n",
       "      <th>13</th>\n",
       "      <td>2</td>\n",
       "      <td>67</td>\n",
       "      <td>[0.6, 0.6, 0.2]</td>\n",
       "    </tr>\n",
       "    <tr>\n",
       "      <th>14</th>\n",
       "      <td>1</td>\n",
       "      <td>88</td>\n",
       "      <td>[0.0, 0.2, 0.4]</td>\n",
       "    </tr>\n",
       "    <tr>\n",
       "      <th>15</th>\n",
       "      <td>273</td>\n",
       "      <td>89</td>\n",
       "      <td>[0.2, 0.2, 0.4]</td>\n",
       "    </tr>\n",
       "    <tr>\n",
       "      <th>16</th>\n",
       "      <td>190</td>\n",
       "      <td>90</td>\n",
       "      <td>[0.4, 0.2, 0.4]</td>\n",
       "    </tr>\n",
       "    <tr>\n",
       "      <th>17</th>\n",
       "      <td>3</td>\n",
       "      <td>91</td>\n",
       "      <td>[0.6, 0.2, 0.4]</td>\n",
       "    </tr>\n",
       "    <tr>\n",
       "      <th>18</th>\n",
       "      <td>208</td>\n",
       "      <td>95</td>\n",
       "      <td>[0.2, 0.4, 0.4]</td>\n",
       "    </tr>\n",
       "    <tr>\n",
       "      <th>19</th>\n",
       "      <td>2379</td>\n",
       "      <td>96</td>\n",
       "      <td>[0.4, 0.4, 0.4]</td>\n",
       "    </tr>\n",
       "    <tr>\n",
       "      <th>20</th>\n",
       "      <td>426</td>\n",
       "      <td>97</td>\n",
       "      <td>[0.6, 0.4, 0.4]</td>\n",
       "    </tr>\n",
       "    <tr>\n",
       "      <th>21</th>\n",
       "      <td>149</td>\n",
       "      <td>102</td>\n",
       "      <td>[0.4, 0.6, 0.4]</td>\n",
       "    </tr>\n",
       "    <tr>\n",
       "      <th>22</th>\n",
       "      <td>245</td>\n",
       "      <td>103</td>\n",
       "      <td>[0.6, 0.6, 0.4]</td>\n",
       "    </tr>\n",
       "    <tr>\n",
       "      <th>23</th>\n",
       "      <td>9</td>\n",
       "      <td>104</td>\n",
       "      <td>[0.8, 0.6, 0.4]</td>\n",
       "    </tr>\n",
       "    <tr>\n",
       "      <th>24</th>\n",
       "      <td>1</td>\n",
       "      <td>108</td>\n",
       "      <td>[0.4, 0.8, 0.4]</td>\n",
       "    </tr>\n",
       "    <tr>\n",
       "      <th>25</th>\n",
       "      <td>2</td>\n",
       "      <td>109</td>\n",
       "      <td>[0.6, 0.8, 0.4]</td>\n",
       "    </tr>\n",
       "    <tr>\n",
       "      <th>26</th>\n",
       "      <td>1</td>\n",
       "      <td>110</td>\n",
       "      <td>[0.8, 0.8, 0.4]</td>\n",
       "    </tr>\n",
       "    <tr>\n",
       "      <th>27</th>\n",
       "      <td>2</td>\n",
       "      <td>111</td>\n",
       "      <td>[1.0, 0.8, 0.4]</td>\n",
       "    </tr>\n",
       "    <tr>\n",
       "      <th>28</th>\n",
       "      <td>1</td>\n",
       "      <td>125</td>\n",
       "      <td>[0.2, 0.2, 0.6]</td>\n",
       "    </tr>\n",
       "    <tr>\n",
       "      <th>29</th>\n",
       "      <td>162</td>\n",
       "      <td>132</td>\n",
       "      <td>[0.4, 0.4, 0.6]</td>\n",
       "    </tr>\n",
       "    <tr>\n",
       "      <th>30</th>\n",
       "      <td>94</td>\n",
       "      <td>133</td>\n",
       "      <td>[0.6, 0.4, 0.6]</td>\n",
       "    </tr>\n",
       "    <tr>\n",
       "      <th>31</th>\n",
       "      <td>127</td>\n",
       "      <td>138</td>\n",
       "      <td>[0.4, 0.6, 0.6]</td>\n",
       "    </tr>\n",
       "    <tr>\n",
       "      <th>32</th>\n",
       "      <td>1014</td>\n",
       "      <td>139</td>\n",
       "      <td>[0.6, 0.6, 0.6]</td>\n",
       "    </tr>\n",
       "    <tr>\n",
       "      <th>33</th>\n",
       "      <td>93</td>\n",
       "      <td>140</td>\n",
       "      <td>[0.8, 0.6, 0.6]</td>\n",
       "    </tr>\n",
       "    <tr>\n",
       "      <th>34</th>\n",
       "      <td>1</td>\n",
       "      <td>144</td>\n",
       "      <td>[0.4, 0.8, 0.6]</td>\n",
       "    </tr>\n",
       "    <tr>\n",
       "      <th>35</th>\n",
       "      <td>80</td>\n",
       "      <td>145</td>\n",
       "      <td>[0.6, 0.8, 0.6]</td>\n",
       "    </tr>\n",
       "    <tr>\n",
       "      <th>36</th>\n",
       "      <td>164</td>\n",
       "      <td>146</td>\n",
       "      <td>[0.8, 0.8, 0.6]</td>\n",
       "    </tr>\n",
       "    <tr>\n",
       "      <th>37</th>\n",
       "      <td>3</td>\n",
       "      <td>147</td>\n",
       "      <td>[1.0, 0.8, 0.6]</td>\n",
       "    </tr>\n",
       "    <tr>\n",
       "      <th>38</th>\n",
       "      <td>97</td>\n",
       "      <td>175</td>\n",
       "      <td>[0.6, 0.6, 0.8]</td>\n",
       "    </tr>\n",
       "    <tr>\n",
       "      <th>39</th>\n",
       "      <td>50</td>\n",
       "      <td>176</td>\n",
       "      <td>[0.8, 0.6, 0.8]</td>\n",
       "    </tr>\n",
       "    <tr>\n",
       "      <th>40</th>\n",
       "      <td>80</td>\n",
       "      <td>181</td>\n",
       "      <td>[0.6, 0.8, 0.8]</td>\n",
       "    </tr>\n",
       "    <tr>\n",
       "      <th>41</th>\n",
       "      <td>647</td>\n",
       "      <td>182</td>\n",
       "      <td>[0.8, 0.8, 0.8]</td>\n",
       "    </tr>\n",
       "    <tr>\n",
       "      <th>42</th>\n",
       "      <td>44</td>\n",
       "      <td>183</td>\n",
       "      <td>[1.0, 0.8, 0.8]</td>\n",
       "    </tr>\n",
       "    <tr>\n",
       "      <th>43</th>\n",
       "      <td>45</td>\n",
       "      <td>188</td>\n",
       "      <td>[0.8, 1.0, 0.8]</td>\n",
       "    </tr>\n",
       "    <tr>\n",
       "      <th>44</th>\n",
       "      <td>22</td>\n",
       "      <td>189</td>\n",
       "      <td>[1.0, 1.0, 0.8]</td>\n",
       "    </tr>\n",
       "    <tr>\n",
       "      <th>45</th>\n",
       "      <td>84</td>\n",
       "      <td>218</td>\n",
       "      <td>[0.8, 0.8, 1.0]</td>\n",
       "    </tr>\n",
       "    <tr>\n",
       "      <th>46</th>\n",
       "      <td>19</td>\n",
       "      <td>219</td>\n",
       "      <td>[1.0, 0.8, 1.0]</td>\n",
       "    </tr>\n",
       "    <tr>\n",
       "      <th>47</th>\n",
       "      <td>73</td>\n",
       "      <td>224</td>\n",
       "      <td>[0.8, 1.0, 1.0]</td>\n",
       "    </tr>\n",
       "    <tr>\n",
       "      <th>48</th>\n",
       "      <td>351</td>\n",
       "      <td>225</td>\n",
       "      <td>[1.0, 1.0, 1.0]</td>\n",
       "    </tr>\n",
       "  </tbody>\n",
       "</table>\n",
       "</div>"
      ],
      "text/plain": [
       "    count  color_index            color\n",
       "0      85            0  [0.0, 0.0, 0.0]\n",
       "1      22           11  [0.2, 0.0, 0.0]\n",
       "2      38           16  [0.0, 0.2, 0.0]\n",
       "3      40           17  [0.2, 0.2, 0.0]\n",
       "4      61           46  [0.0, 0.0, 0.2]\n",
       "5      42           47  [0.2, 0.0, 0.2]\n",
       "6     120           52  [0.0, 0.2, 0.2]\n",
       "7    1475           53  [0.2, 0.2, 0.2]\n",
       "8     305           54  [0.4, 0.2, 0.2]\n",
       "9     143           59  [0.2, 0.4, 0.2]\n",
       "10    505           60  [0.4, 0.4, 0.2]\n",
       "11     19           61  [0.6, 0.4, 0.2]\n",
       "12      3           66  [0.4, 0.6, 0.2]\n",
       "13      2           67  [0.6, 0.6, 0.2]\n",
       "14      1           88  [0.0, 0.2, 0.4]\n",
       "15    273           89  [0.2, 0.2, 0.4]\n",
       "16    190           90  [0.4, 0.2, 0.4]\n",
       "17      3           91  [0.6, 0.2, 0.4]\n",
       "18    208           95  [0.2, 0.4, 0.4]\n",
       "19   2379           96  [0.4, 0.4, 0.4]\n",
       "20    426           97  [0.6, 0.4, 0.4]\n",
       "21    149          102  [0.4, 0.6, 0.4]\n",
       "22    245          103  [0.6, 0.6, 0.4]\n",
       "23      9          104  [0.8, 0.6, 0.4]\n",
       "24      1          108  [0.4, 0.8, 0.4]\n",
       "25      2          109  [0.6, 0.8, 0.4]\n",
       "26      1          110  [0.8, 0.8, 0.4]\n",
       "27      2          111  [1.0, 0.8, 0.4]\n",
       "28      1          125  [0.2, 0.2, 0.6]\n",
       "29    162          132  [0.4, 0.4, 0.6]\n",
       "30     94          133  [0.6, 0.4, 0.6]\n",
       "31    127          138  [0.4, 0.6, 0.6]\n",
       "32   1014          139  [0.6, 0.6, 0.6]\n",
       "33     93          140  [0.8, 0.6, 0.6]\n",
       "34      1          144  [0.4, 0.8, 0.6]\n",
       "35     80          145  [0.6, 0.8, 0.6]\n",
       "36    164          146  [0.8, 0.8, 0.6]\n",
       "37      3          147  [1.0, 0.8, 0.6]\n",
       "38     97          175  [0.6, 0.6, 0.8]\n",
       "39     50          176  [0.8, 0.6, 0.8]\n",
       "40     80          181  [0.6, 0.8, 0.8]\n",
       "41    647          182  [0.8, 0.8, 0.8]\n",
       "42     44          183  [1.0, 0.8, 0.8]\n",
       "43     45          188  [0.8, 1.0, 0.8]\n",
       "44     22          189  [1.0, 1.0, 0.8]\n",
       "45     84          218  [0.8, 0.8, 1.0]\n",
       "46     19          219  [1.0, 0.8, 1.0]\n",
       "47     73          224  [0.8, 1.0, 1.0]\n",
       "48    351          225  [1.0, 1.0, 1.0]"
      ]
     },
     "execution_count": 28,
     "metadata": {},
     "output_type": "execute_result"
    }
   ],
   "source": [
    "# Get the palette\n",
    "p = p_img.getpalette()\n",
    "\n",
    "# Create a color column based on the color_index column and the color palette\n",
    "# We divide by 255 as we need R, G, B values in their decimal representation for plotting\n",
    "df[\"color\"] = df[\"color_index\"].apply(\n",
    "    lambda x: [v / 255.0 for v in p[x * 3 : x * 3 + 3]]\n",
    ")\n",
    "df"
   ]
  },
  {
   "cell_type": "code",
   "execution_count": 29,
   "metadata": {
    "colab": {
     "base_uri": "https://localhost:8080/",
     "height": 452
    },
    "id": "XT0Lwryg8NLq",
    "outputId": "568d9f4b-a8fe-45f2-bcfc-3f4c1c4f0873"
   },
   "outputs": [
    {
     "data": {
      "text/plain": [
       "<Axes: >"
      ]
     },
     "execution_count": 29,
     "metadata": {},
     "output_type": "execute_result"
    },
    {
     "data": {
      "image/png": "[encoded data removed]",
      "text/plain": [
       "<Figure size 640x480 with 1 Axes>"
      ]
     },
     "metadata": {},
     "output_type": "display_data"
    }
   ],
   "source": [
    "# Plot your colors\n",
    "df.plot.bar(y=\"count\", color=df[\"color\"])"
   ]
  },
  {
   "cell_type": "markdown",
   "metadata": {},
   "source": [
    "The above chart has each color in the palette on the X-axis, and the number of pixels with that color on the Y-axis. Note that the colors are sorted in a way that goes from black (0, 0, 0) to white (255, 255, 255). But because you are sorting values with three independent dimensions — red, green, and blue — there is not a definitive way to order them.\n",
    "\n",
    "`PIL` makes an assumption about how best to sort the colors. But there are lots of alternatives ( [this](https://www.alanzucconi.com/2015/09/30/colour-sorting/) is a pretty good write-up). In general, this is a good example of how organizing and summarizing information is a choice with tradeoffs.\n",
    "\n",
    "You'll need to navigate and negotiate similar choices in your own work over the semester."
   ]
  },
  {
   "cell_type": "code",
   "execution_count": 30,
   "metadata": {},
   "outputs": [
    {
     "data": {
      "image/jpeg": "[encoded data removed]",
      "image/png": "[encoded data removed]",
      "text/plain": [
       "<PIL.Image.Image image mode=RGB size=100x100>"
      ]
     },
     "execution_count": 30,
     "metadata": {},
     "output_type": "execute_result"
    }
   ],
   "source": [
    "# Does it look right?\n",
    "smaller_img"
   ]
  },
  {
   "cell_type": "markdown",
   "metadata": {},
   "source": [
    "And of course, you should always check your work to see if it makes sense! As a very approximate \"test\" — does the color frequency displayed above match what you'd expect from the image thumbnail?"
   ]
  },
  {
   "cell_type": "markdown",
   "metadata": {},
   "source": [
    "## Accessing pixels\n",
    "Of course, images are just pixels! And `PIL` gives you a way to look just at those.\n",
    "\n",
    "If you access pixels directly on a high-res image, you'll notice there are a lot of them (e.g. all those megapixels you hear about on cameras — a 8064 x 6048 image is almost 50 _million_ pixels).\n",
    "\n",
    "The power of `PIL`'s summary functions is that they handle all that pixel data for you. If you do want to access them directly, you should reduce the size of your image with `Image.resize()` or `Image.thumbnail()`.  "
   ]
  },
  {
   "cell_type": "code",
   "execution_count": 31,
   "metadata": {},
   "outputs": [
    {
     "name": "stdout",
     "output_type": "stream",
     "text": [
      "The thumbnailed image is (75, 100)\n"
     ]
    },
    {
     "data": {
      "image/jpeg": "[encoded data removed]",
      "image/png": "[encoded data removed]",
      "text/plain": [
       "<PIL.Image.Image image mode=RGB size=75x100>"
      ]
     },
     "execution_count": 31,
     "metadata": {},
     "output_type": "execute_result"
    }
   ],
   "source": [
    "# Let's use the image we thumbnailed before.\n",
    "print(f\"The thumbnailed image is {new_img.size}\")\n",
    "new_img"
   ]
  },
  {
   "cell_type": "markdown",
   "metadata": {},
   "source": [
    "`PIL` gives you ways to look at exactly one pixel, using its X and Y position. In `PIL`, pixels are ordered from top-left, with positive X being to the right and positive Y being down."
   ]
  },
  {
   "cell_type": "code",
   "execution_count": 32,
   "metadata": {},
   "outputs": [
    {
     "name": "stdout",
     "output_type": "stream",
     "text": [
      "The RGB color value with the pixel at (0, 0) is (61, 66, 76)\n"
     ]
    }
   ],
   "source": [
    "# Try getting a single pixel value\n",
    "print(f\"The RGB color value with the pixel at (0, 0) is {new_img.getpixel((0, 0))}\")"
   ]
  },
  {
   "cell_type": "markdown",
   "metadata": {},
   "source": [
    "Of course, you can also get _all_ the pixels! Again, as a note of warning this can create a large data object so use with caution.\n",
    "\n",
    "`Image.getadata()` returns a custom `PIL` sequence, which can be converted to a more typical Python `list`. The pixels are ordered line-by-line, going left-to-right and top-to-bottom. "
   ]
  },
  {
   "cell_type": "code",
   "execution_count": 33,
   "metadata": {},
   "outputs": [],
   "source": [
    "# For simplicity, we'll convert this image from RGB to P mode\n",
    "p_img = new_img.convert(\"P\")\n",
    "\n",
    "# Get all the pixels. This is done line-by-line.\n",
    "pixels = list(p_img.getdata())"
   ]
  },
  {
   "cell_type": "markdown",
   "metadata": {},
   "source": [
    "To help organize the pixels, we can create a list of lists. That is, if the image is organized as follow:\n",
    "\n",
    "```\n",
    "       col 1  col 2  col 3\n",
    "row 1    1      2      4\n",
    "row 2    0      0      1\n",
    "...\n",
    "```\n",
    "\n",
    "We can create a list of lists that looks like:\n",
    "\n",
    "```\n",
    "[\n",
    "  [1, 2, 4],\n",
    "  [0, 0, 1],\n",
    "  ...\n",
    "]\n",
    "```\n",
    "\n",
    "This will require a loop to build up the list."
   ]
  },
  {
   "cell_type": "code",
   "execution_count": 34,
   "metadata": {},
   "outputs": [],
   "source": [
    "# We need the width of the image to help sort the data\n",
    "width = p_img.width\n",
    "\n",
    "# We'll create an empty list to hold the data\n",
    "# What we want is a list of sublists. Each sublist should be a row of pixel colors.\n",
    "pixel_data = []\n",
    "\n",
    "# We'll create a loop that iterates as many times as there are rows\n",
    "# The range() function loops from 0 to the provided number\n",
    "# In this case, that's the number of pixels divided by the width\n",
    "for row in range(len(pixels) // width):\n",
    "    # Let's create our sublist, which goes from the\n",
    "    # first to last pixel in the row\n",
    "    row_data = pixels[row * width : (row + 1) * width]\n",
    "\n",
    "    # We'll use the append() function to add our sublist\n",
    "    pixel_data.append(row_data)"
   ]
  },
  {
   "cell_type": "markdown",
   "metadata": {},
   "source": [
    "Now that we have the list of lists, we can more easily work with them. For example, as a table!"
   ]
  },
  {
   "cell_type": "code",
   "execution_count": 35,
   "metadata": {},
   "outputs": [
    {
     "data": {
      "text/html": [
       "<div>\n",
       "<style scoped>\n",
       "    .dataframe tbody tr th:only-of-type {\n",
       "        vertical-align: middle;\n",
       "    }\n",
       "\n",
       "    .dataframe tbody tr th {\n",
       "        vertical-align: top;\n",
       "    }\n",
       "\n",
       "    .dataframe thead th {\n",
       "        text-align: right;\n",
       "    }\n",
       "</style>\n",
       "<table border=\"1\" class=\"dataframe\">\n",
       "  <thead>\n",
       "    <tr style=\"text-align: right;\">\n",
       "      <th></th>\n",
       "      <th>0</th>\n",
       "      <th>1</th>\n",
       "      <th>2</th>\n",
       "      <th>3</th>\n",
       "      <th>4</th>\n",
       "      <th>5</th>\n",
       "      <th>6</th>\n",
       "      <th>7</th>\n",
       "      <th>8</th>\n",
       "      <th>9</th>\n",
       "      <th>...</th>\n",
       "      <th>65</th>\n",
       "      <th>66</th>\n",
       "      <th>67</th>\n",
       "      <th>68</th>\n",
       "      <th>69</th>\n",
       "      <th>70</th>\n",
       "      <th>71</th>\n",
       "      <th>72</th>\n",
       "      <th>73</th>\n",
       "      <th>74</th>\n",
       "    </tr>\n",
       "  </thead>\n",
       "  <tbody>\n",
       "    <tr>\n",
       "      <th>0</th>\n",
       "      <td>53</td>\n",
       "      <td>53</td>\n",
       "      <td>53</td>\n",
       "      <td>95</td>\n",
       "      <td>54</td>\n",
       "      <td>95</td>\n",
       "      <td>53</td>\n",
       "      <td>53</td>\n",
       "      <td>53</td>\n",
       "      <td>95</td>\n",
       "      <td>...</td>\n",
       "      <td>139</td>\n",
       "      <td>96</td>\n",
       "      <td>89</td>\n",
       "      <td>96</td>\n",
       "      <td>96</td>\n",
       "      <td>53</td>\n",
       "      <td>90</td>\n",
       "      <td>53</td>\n",
       "      <td>53</td>\n",
       "      <td>89</td>\n",
       "    </tr>\n",
       "    <tr>\n",
       "      <th>1</th>\n",
       "      <td>96</td>\n",
       "      <td>89</td>\n",
       "      <td>53</td>\n",
       "      <td>89</td>\n",
       "      <td>96</td>\n",
       "      <td>54</td>\n",
       "      <td>95</td>\n",
       "      <td>89</td>\n",
       "      <td>53</td>\n",
       "      <td>89</td>\n",
       "      <td>...</td>\n",
       "      <td>139</td>\n",
       "      <td>96</td>\n",
       "      <td>53</td>\n",
       "      <td>96</td>\n",
       "      <td>96</td>\n",
       "      <td>53</td>\n",
       "      <td>95</td>\n",
       "      <td>54</td>\n",
       "      <td>95</td>\n",
       "      <td>53</td>\n",
       "    </tr>\n",
       "    <tr>\n",
       "      <th>2</th>\n",
       "      <td>95</td>\n",
       "      <td>90</td>\n",
       "      <td>59</td>\n",
       "      <td>53</td>\n",
       "      <td>89</td>\n",
       "      <td>96</td>\n",
       "      <td>53</td>\n",
       "      <td>53</td>\n",
       "      <td>89</td>\n",
       "      <td>96</td>\n",
       "      <td>...</td>\n",
       "      <td>138</td>\n",
       "      <td>96</td>\n",
       "      <td>89</td>\n",
       "      <td>96</td>\n",
       "      <td>54</td>\n",
       "      <td>89</td>\n",
       "      <td>60</td>\n",
       "      <td>89</td>\n",
       "      <td>54</td>\n",
       "      <td>53</td>\n",
       "    </tr>\n",
       "    <tr>\n",
       "      <th>3</th>\n",
       "      <td>96</td>\n",
       "      <td>95</td>\n",
       "      <td>89</td>\n",
       "      <td>53</td>\n",
       "      <td>53</td>\n",
       "      <td>96</td>\n",
       "      <td>89</td>\n",
       "      <td>53</td>\n",
       "      <td>89</td>\n",
       "      <td>102</td>\n",
       "      <td>...</td>\n",
       "      <td>139</td>\n",
       "      <td>90</td>\n",
       "      <td>96</td>\n",
       "      <td>96</td>\n",
       "      <td>53</td>\n",
       "      <td>96</td>\n",
       "      <td>53</td>\n",
       "      <td>53</td>\n",
       "      <td>95</td>\n",
       "      <td>54</td>\n",
       "    </tr>\n",
       "    <tr>\n",
       "      <th>4</th>\n",
       "      <td>96</td>\n",
       "      <td>96</td>\n",
       "      <td>96</td>\n",
       "      <td>53</td>\n",
       "      <td>89</td>\n",
       "      <td>59</td>\n",
       "      <td>96</td>\n",
       "      <td>53</td>\n",
       "      <td>89</td>\n",
       "      <td>139</td>\n",
       "      <td>...</td>\n",
       "      <td>138</td>\n",
       "      <td>89</td>\n",
       "      <td>60</td>\n",
       "      <td>96</td>\n",
       "      <td>53</td>\n",
       "      <td>90</td>\n",
       "      <td>59</td>\n",
       "      <td>90</td>\n",
       "      <td>53</td>\n",
       "      <td>53</td>\n",
       "    </tr>\n",
       "    <tr>\n",
       "      <th>...</th>\n",
       "      <td>...</td>\n",
       "      <td>...</td>\n",
       "      <td>...</td>\n",
       "      <td>...</td>\n",
       "      <td>...</td>\n",
       "      <td>...</td>\n",
       "      <td>...</td>\n",
       "      <td>...</td>\n",
       "      <td>...</td>\n",
       "      <td>...</td>\n",
       "      <td>...</td>\n",
       "      <td>...</td>\n",
       "      <td>...</td>\n",
       "      <td>...</td>\n",
       "      <td>...</td>\n",
       "      <td>...</td>\n",
       "      <td>...</td>\n",
       "      <td>...</td>\n",
       "      <td>...</td>\n",
       "      <td>...</td>\n",
       "      <td>...</td>\n",
       "    </tr>\n",
       "    <tr>\n",
       "      <th>95</th>\n",
       "      <td>53</td>\n",
       "      <td>53</td>\n",
       "      <td>53</td>\n",
       "      <td>60</td>\n",
       "      <td>90</td>\n",
       "      <td>96</td>\n",
       "      <td>96</td>\n",
       "      <td>60</td>\n",
       "      <td>96</td>\n",
       "      <td>60</td>\n",
       "      <td>...</td>\n",
       "      <td>102</td>\n",
       "      <td>96</td>\n",
       "      <td>96</td>\n",
       "      <td>96</td>\n",
       "      <td>96</td>\n",
       "      <td>97</td>\n",
       "      <td>102</td>\n",
       "      <td>96</td>\n",
       "      <td>96</td>\n",
       "      <td>60</td>\n",
       "    </tr>\n",
       "    <tr>\n",
       "      <th>96</th>\n",
       "      <td>53</td>\n",
       "      <td>60</td>\n",
       "      <td>90</td>\n",
       "      <td>59</td>\n",
       "      <td>96</td>\n",
       "      <td>60</td>\n",
       "      <td>96</td>\n",
       "      <td>96</td>\n",
       "      <td>96</td>\n",
       "      <td>96</td>\n",
       "      <td>...</td>\n",
       "      <td>97</td>\n",
       "      <td>96</td>\n",
       "      <td>97</td>\n",
       "      <td>96</td>\n",
       "      <td>60</td>\n",
       "      <td>96</td>\n",
       "      <td>97</td>\n",
       "      <td>97</td>\n",
       "      <td>96</td>\n",
       "      <td>97</td>\n",
       "    </tr>\n",
       "    <tr>\n",
       "      <th>97</th>\n",
       "      <td>96</td>\n",
       "      <td>60</td>\n",
       "      <td>96</td>\n",
       "      <td>54</td>\n",
       "      <td>96</td>\n",
       "      <td>96</td>\n",
       "      <td>97</td>\n",
       "      <td>96</td>\n",
       "      <td>97</td>\n",
       "      <td>96</td>\n",
       "      <td>...</td>\n",
       "      <td>103</td>\n",
       "      <td>96</td>\n",
       "      <td>60</td>\n",
       "      <td>97</td>\n",
       "      <td>97</td>\n",
       "      <td>96</td>\n",
       "      <td>96</td>\n",
       "      <td>96</td>\n",
       "      <td>97</td>\n",
       "      <td>96</td>\n",
       "    </tr>\n",
       "    <tr>\n",
       "      <th>98</th>\n",
       "      <td>53</td>\n",
       "      <td>90</td>\n",
       "      <td>59</td>\n",
       "      <td>90</td>\n",
       "      <td>96</td>\n",
       "      <td>102</td>\n",
       "      <td>139</td>\n",
       "      <td>96</td>\n",
       "      <td>132</td>\n",
       "      <td>181</td>\n",
       "      <td>...</td>\n",
       "      <td>96</td>\n",
       "      <td>97</td>\n",
       "      <td>96</td>\n",
       "      <td>96</td>\n",
       "      <td>96</td>\n",
       "      <td>103</td>\n",
       "      <td>96</td>\n",
       "      <td>60</td>\n",
       "      <td>96</td>\n",
       "      <td>96</td>\n",
       "    </tr>\n",
       "    <tr>\n",
       "      <th>99</th>\n",
       "      <td>60</td>\n",
       "      <td>53</td>\n",
       "      <td>96</td>\n",
       "      <td>96</td>\n",
       "      <td>103</td>\n",
       "      <td>96</td>\n",
       "      <td>132</td>\n",
       "      <td>182</td>\n",
       "      <td>182</td>\n",
       "      <td>182</td>\n",
       "      <td>...</td>\n",
       "      <td>103</td>\n",
       "      <td>96</td>\n",
       "      <td>97</td>\n",
       "      <td>96</td>\n",
       "      <td>97</td>\n",
       "      <td>96</td>\n",
       "      <td>97</td>\n",
       "      <td>97</td>\n",
       "      <td>60</td>\n",
       "      <td>60</td>\n",
       "    </tr>\n",
       "  </tbody>\n",
       "</table>\n",
       "<p>100 rows × 75 columns</p>\n",
       "</div>"
      ],
      "text/plain": [
       "    0   1   2   3    4    5    6    7    8    9   ...   65  66  67  68  69  \\\n",
       "0   53  53  53  95   54   95   53   53   53   95  ...  139  96  89  96  96   \n",
       "1   96  89  53  89   96   54   95   89   53   89  ...  139  96  53  96  96   \n",
       "2   95  90  59  53   89   96   53   53   89   96  ...  138  96  89  96  54   \n",
       "3   96  95  89  53   53   96   89   53   89  102  ...  139  90  96  96  53   \n",
       "4   96  96  96  53   89   59   96   53   89  139  ...  138  89  60  96  53   \n",
       "..  ..  ..  ..  ..  ...  ...  ...  ...  ...  ...  ...  ...  ..  ..  ..  ..   \n",
       "95  53  53  53  60   90   96   96   60   96   60  ...  102  96  96  96  96   \n",
       "96  53  60  90  59   96   60   96   96   96   96  ...   97  96  97  96  60   \n",
       "97  96  60  96  54   96   96   97   96   97   96  ...  103  96  60  97  97   \n",
       "98  53  90  59  90   96  102  139   96  132  181  ...   96  97  96  96  96   \n",
       "99  60  53  96  96  103   96  132  182  182  182  ...  103  96  97  96  97   \n",
       "\n",
       "     70   71  72  73  74  \n",
       "0    53   90  53  53  89  \n",
       "1    53   95  54  95  53  \n",
       "2    89   60  89  54  53  \n",
       "3    96   53  53  95  54  \n",
       "4    90   59  90  53  53  \n",
       "..  ...  ...  ..  ..  ..  \n",
       "95   97  102  96  96  60  \n",
       "96   96   97  97  96  97  \n",
       "97   96   96  96  97  96  \n",
       "98  103   96  60  96  96  \n",
       "99   96   97  97  60  60  \n",
       "\n",
       "[100 rows x 75 columns]"
      ]
     },
     "execution_count": 35,
     "metadata": {},
     "output_type": "execute_result"
    }
   ],
   "source": [
    "pd.DataFrame(pixel_data)"
   ]
  },
  {
   "cell_type": "markdown",
   "metadata": {},
   "source": [
    "### Puzzles\n",
    "- TBD"
   ]
  },
  {
   "cell_type": "markdown",
   "metadata": {},
   "source": []
  }
 ],
 "metadata": {
  "colab": {
   "authorship_tag": "ABX9TyNIinxEFL+JKhoOjnJqzbuy",
   "include_colab_link": true,
   "provenance": []
  },
  "kernelspec": {
   "display_name": "Python 3",
   "name": "python3"
  },
  "language_info": {
   "codemirror_mode": {
    "name": "ipython",
    "version": 3
   },
   "file_extension": ".py",
   "mimetype": "text/x-python",
   "name": "python",
   "nbconvert_exporter": "python",
   "pygments_lexer": "ipython3",
   "version": "3.10.13"
  }
 },
 "nbformat": 4,
 "nbformat_minor": 0
}
