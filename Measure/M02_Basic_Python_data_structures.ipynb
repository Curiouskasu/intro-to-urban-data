{
  "nbformat": 4,
  "nbformat_minor": 0,
  "metadata": {
    "colab": {
      "provenance": [],
      "toc_visible": true,
      "authorship_tag": "ABX9TyM4w+lSxVuBgE01ZpdkDM5M",
      "include_colab_link": true
    },
    "kernelspec": {
      "name": "python3",
      "display_name": "Python 3"
    },
    "language_info": {
      "name": "python"
    }
  },
  "cells": [
    {
      "cell_type": "markdown",
      "metadata": {
        "id": "view-in-github",
        "colab_type": "text"
      },
      "source": [
        "<a href=\"https://colab.research.google.com/github/brian-ho/intro-to-urban-data/blob/main/Measure/M02_Basic_Python_data_structures.ipynb\" target=\"_parent\"><img src=\"https://colab.research.google.com/assets/colab-badge.svg\" alt=\"Open In Colab\"/></a>"
      ]
    },
    {
      "cell_type": "markdown",
      "source": [
        "# **02 Measure** Basic Python Data Structures\n",
        "\n",
        "```\n",
        "    Class       ARCH 6131 Urban Design Methods / Skills / Tools 1\n",
        "                The Gensler Family AAP NYC Center\n",
        "                Fall 2023\n",
        "                Monday 3:30 PM to 6 PM\n",
        "\n",
        "    Instructor  Brian Ho\n",
        "                brian@brian-ho.io\n",
        "```\n",
        "\n",
        "This notebook illustrates some basic ways to work with data in Python using built-in types of data structures. By and large, these are the main Python programming concepts you will need this semester:\n",
        "\n",
        "- Variables\n",
        "- Operators\n",
        "- Lists\n",
        "- Dictionaries\n",
        "- Loops\n",
        "- Conditionals\n",
        "- Functions\n",
        "\n",
        "This is meant to demonstrate key principles. If you want more comprehensive details and instructions check out:\n",
        "- the official [Python 3 tutorials](https://docs.python.org/3/tutorial/datastructures.html)\n",
        "- [introduction from the Cornell Virtual Workshop](https://cvw.cac.cornell.edu/python-intro/objects-and-oop/introduction).\n",
        "\n",
        "There's a challenge at the end to test your knowledge!"
      ],
      "metadata": {
        "id": "EsfENlDG71Gv"
      }
    },
    {
      "cell_type": "markdown",
      "source": [
        "## Variables\n",
        "Variables are names that reference objects and data. In Python, variables are _assigned_ a value — and can generally be reassigned to any new value. You can assign a value to Python using the `=` operator:\n",
        "\n",
        "```\n",
        "variable_name = <value_to_assign>\n",
        "```\n",
        "\n",
        "Here are a few examples of variables for numbers. These support the mathemtical operators you might expect: addition, subtraction, multiplication, division, etc ..."
      ],
      "metadata": {
        "id": "ZG3T2QMnQcUc"
      }
    },
    {
      "cell_type": "code",
      "execution_count": 9,
      "metadata": {
        "colab": {
          "base_uri": "https://localhost:8080/"
        },
        "id": "JvMxo__n7rd1",
        "outputId": "0275a093-6e62-40ab-fa96-e0f961ebc014"
      },
      "outputs": [
        {
          "output_type": "stream",
          "name": "stdout",
          "text": [
            "a = 0\n",
            "b = 1\n",
            "c = 1\n",
            "d = 2.5\n",
            "e = 100.0\n",
            "f = 250.0\n"
          ]
        }
      ],
      "source": [
        "# A variable can be an integer and operations performed on integers\n",
        "a = 0\n",
        "b = 1\n",
        "c = a + b\n",
        "print(f'a = {a}')\n",
        "print(f'b = {b}')\n",
        "print(f'c = {c}')\n",
        "\n",
        "# A variable can also be a float — a decimal value\n",
        "d = 2.5\n",
        "e = 1e2\n",
        "f = d * e\n",
        "print(f'd = {d}')\n",
        "print(f'e = {e}')\n",
        "print(f'f = {f}')"
      ]
    },
    {
      "cell_type": "markdown",
      "source": [
        "Variables can also be text, referred to as strings. Notice that strings can have operators — in this case, you can add two strings together."
      ],
      "metadata": {
        "id": "9H8EsOqIRkPZ"
      }
    },
    {
      "cell_type": "code",
      "source": [
        "# A variable can be a string: one or more characters\n",
        "x = \"Here's a string\"\n",
        "y = \"!\"\n",
        "z = x + y\n",
        "print(z)"
      ],
      "metadata": {
        "colab": {
          "base_uri": "https://localhost:8080/"
        },
        "id": "QiC1H3XrRM2h",
        "outputId": "4e2f063e-fec5-4e47-d079-77bcd365489e"
      },
      "execution_count": 11,
      "outputs": [
        {
          "output_type": "stream",
          "name": "stdout",
          "text": [
            "Here's a string!\n"
          ]
        }
      ]
    },
    {
      "cell_type": "markdown",
      "source": [
        "## Operators\n",
        "You may have noticed that above we use operators to combine or otherwise work with variable. Generally, these do what we expect."
      ],
      "metadata": {
        "id": "rua4tmnpaDMN"
      }
    },
    {
      "cell_type": "code",
      "source": [
        "print(1 + 1)\n",
        "print(200 / 10)"
      ],
      "metadata": {
        "colab": {
          "base_uri": "https://localhost:8080/"
        },
        "id": "qmJxcrYqaNR5",
        "outputId": "3f556fb6-e209-47a4-fd5e-f3a80a3e4ec9"
      },
      "execution_count": 64,
      "outputs": [
        {
          "output_type": "stream",
          "name": "stdout",
          "text": [
            "2\n",
            "20.0\n"
          ]
        }
      ]
    },
    {
      "cell_type": "markdown",
      "source": [
        "There are some operators that you may be less familiar with:"
      ],
      "metadata": {
        "id": "3uPZZoBbTADB"
      }
    },
    {
      "cell_type": "code",
      "source": [
        "# The >, <, >=, <= check if values are smaller or larger.\n",
        "# Try changing the operrator or values and see what happens!\n",
        "10 > 200"
      ],
      "metadata": {
        "colab": {
          "base_uri": "https://localhost:8080/"
        },
        "id": "TiFnWJ0WZ5Hv",
        "outputId": "d3b755e5-f020-4d88-de3e-19aa6c1d2b98"
      },
      "execution_count": 65,
      "outputs": [
        {
          "output_type": "execute_result",
          "data": {
            "text/plain": [
              "False"
            ]
          },
          "metadata": {},
          "execution_count": 65
        }
      ]
    },
    {
      "cell_type": "code",
      "source": [
        "# The == checks if two values are the same\n",
        "100 == 20 * 5"
      ],
      "metadata": {
        "colab": {
          "base_uri": "https://localhost:8080/"
        },
        "id": "GAX3SNmBTGZU",
        "outputId": "fc30f2d6-f716-44a3-d86e-6689a9e66df4"
      },
      "execution_count": 12,
      "outputs": [
        {
          "output_type": "execute_result",
          "data": {
            "text/plain": [
              "True"
            ]
          },
          "metadata": {},
          "execution_count": 12
        }
      ]
    },
    {
      "cell_type": "code",
      "source": [
        "# The != checks if two values are not the same\n",
        "# In this case\n",
        "2 != 1 + 1"
      ],
      "metadata": {
        "colab": {
          "base_uri": "https://localhost:8080/"
        },
        "id": "XMXq4BWGTM_O",
        "outputId": "177b767d-0999-4298-e7f5-f39cd5bf4161"
      },
      "execution_count": 15,
      "outputs": [
        {
          "output_type": "execute_result",
          "data": {
            "text/plain": [
              "False"
            ]
          },
          "metadata": {},
          "execution_count": 15
        }
      ]
    },
    {
      "cell_type": "code",
      "source": [
        "# The += and -= let you increment or decrement from a variable and re-assign\n",
        "a = 100\n",
        "# This is the same as doing\n",
        "#    a = a + 10\n",
        "a += 10\n",
        "print(a)\n",
        "\n",
        "# What do you think the value of b wlil be?\n",
        "b = 100\n",
        "b -= 100\n",
        "print(b)"
      ],
      "metadata": {
        "colab": {
          "base_uri": "https://localhost:8080/"
        },
        "id": "6cwKaeTQTX2e",
        "outputId": "9d6270d4-5202-4e9b-acab-00a915305a1d"
      },
      "execution_count": 16,
      "outputs": [
        {
          "output_type": "stream",
          "name": "stdout",
          "text": [
            "110\n",
            "0\n",
            "4\n",
            "1.0\n"
          ]
        }
      ]
    },
    {
      "cell_type": "code",
      "source": [
        "# The *= and /= operators do the same for multiplication and division\n",
        "c = 1\n",
        "c *= 4\n",
        "print(c)\n",
        "\n",
        "d = -2\n",
        "d /= -2\n",
        "print(d)"
      ],
      "metadata": {
        "id": "ZyY2xAUKUHXi"
      },
      "execution_count": null,
      "outputs": []
    },
    {
      "cell_type": "markdown",
      "source": [
        "Try playing around with variables and operations in a cell!"
      ],
      "metadata": {
        "id": "661DBaNGSgYz"
      }
    },
    {
      "cell_type": "markdown",
      "source": [
        "## Lists\n",
        "A list (or arrray) is a common data structure for multiple objects. You can distinguish a list when you see the square brackets `[]` with items separated by commas. You may also see lists created with the `list()` constructor.\n",
        "\n",
        "Lists are ordered, and you can add, remove, and iterate with a list."
      ],
      "metadata": {
        "id": "oSdfYvINSJza"
      }
    },
    {
      "cell_type": "code",
      "source": [
        "# A basic list of numbers\n",
        "a_list = [1, 2, 3, 4, 5]\n",
        "print(a_list)"
      ],
      "metadata": {
        "colab": {
          "base_uri": "https://localhost:8080/"
        },
        "id": "70Xtxv9pRxkP",
        "outputId": "33f46565-d0d6-48d9-a887-f0892f4c3ac7"
      },
      "execution_count": 32,
      "outputs": [
        {
          "output_type": "stream",
          "name": "stdout",
          "text": [
            "[1, 2, 3, 4, 5]\n"
          ]
        }
      ]
    },
    {
      "cell_type": "markdown",
      "source": [
        "You can access any of the items using its index (position in the list) and square bracket notation `[]`. A key concept to remember is that Python (and much of programming and computerr science) uses 0-index, so zero represents the first item."
      ],
      "metadata": {
        "id": "T7BQoKl7V-Mt"
      }
    },
    {
      "cell_type": "code",
      "source": [
        "# You can access specific items in a list using an index\n",
        "# Python is 0-indexed, and zero is the first item\n",
        "a_list[0]"
      ],
      "metadata": {
        "colab": {
          "base_uri": "https://localhost:8080/"
        },
        "id": "9gnP43O-UTVv",
        "outputId": "dc16a8b8-1513-433a-e8b0-e92d36f5acbe"
      },
      "execution_count": 33,
      "outputs": [
        {
          "output_type": "execute_result",
          "data": {
            "text/plain": [
              "1"
            ]
          },
          "metadata": {},
          "execution_count": 33
        }
      ]
    },
    {
      "cell_type": "code",
      "source": [
        "# You can use a colon to get a range within a list\n",
        "# This gets everything from index 3 (the fourth item) onwards:\n",
        "a_list[3:]"
      ],
      "metadata": {
        "colab": {
          "base_uri": "https://localhost:8080/"
        },
        "id": "6j7_560uUyTG",
        "outputId": "de18b291-ef25-4db7-be32-88a0bcf0b16f"
      },
      "execution_count": 34,
      "outputs": [
        {
          "output_type": "execute_result",
          "data": {
            "text/plain": [
              "[4, 5]"
            ]
          },
          "metadata": {},
          "execution_count": 34
        }
      ]
    },
    {
      "cell_type": "markdown",
      "source": [
        "Lists are _mutable_ meaning they can be changed and edited. You can start with an empty  list and add to it using `append()`. This is a method on the list object: a function that belongs to it."
      ],
      "metadata": {
        "id": "W5i4oHGtWQpX"
      }
    },
    {
      "cell_type": "code",
      "source": [
        "# You can have empty lists!\n",
        "an_empty_list = []\n",
        "# You can add an item to the end of list!\n",
        "an_empty_list.append('a value')"
      ],
      "metadata": {
        "id": "S5_OFHfyS6NH"
      },
      "execution_count": 36,
      "outputs": []
    },
    {
      "cell_type": "code",
      "source": [
        "# You can add lists together\n",
        "a_longer_list = an_empty_list + a_list"
      ],
      "metadata": {
        "id": "j_YQ6mbHWreq"
      },
      "execution_count": 37,
      "outputs": []
    },
    {
      "cell_type": "code",
      "source": [
        "# And you can reassign to a specific item in a list\n",
        "a_list[0] = 10\n",
        "a_list"
      ],
      "metadata": {
        "colab": {
          "base_uri": "https://localhost:8080/"
        },
        "id": "QP_NGkqxU-zj",
        "outputId": "0f8f64be-ceb4-45f9-bac1-b43fa3bb2d61"
      },
      "execution_count": 38,
      "outputs": [
        {
          "output_type": "execute_result",
          "data": {
            "text/plain": [
              "[10, 2, 3, 4, 5]"
            ]
          },
          "metadata": {},
          "execution_count": 38
        }
      ]
    },
    {
      "cell_type": "markdown",
      "source": [
        "## Dictionaries\n",
        "Dictionaries are a set of key-value pairs, where each key uniquely identifies a value. You can recognize a dictionary when you see squiggly brackets `{}` and keys and values defined with a colon.\n",
        "\n",
        "Dictionaries are useful when you need to organize data. Imagine you want to record data about a buliding's height, number of floors, and address!"
      ],
      "metadata": {
        "id": "8okWEIF8Ujmd"
      }
    },
    {
      "cell_type": "code",
      "source": [
        "# A simple dictionary that holds information about a dictionary\n",
        "building = {\n",
        "    'height': 100,\n",
        "    'number_of_floors': 2,\n",
        "    'address': '123 Main Street'\n",
        "}\n",
        "print(f\"Here's some data about a building: {building}\")"
      ],
      "metadata": {
        "colab": {
          "base_uri": "https://localhost:8080/"
        },
        "id": "D1rMXfxgUSHe",
        "outputId": "da6a5fe4-cf62-4691-8508-75468872c94b"
      },
      "execution_count": 29,
      "outputs": [
        {
          "output_type": "stream",
          "name": "stdout",
          "text": [
            "Here's some data about a building: {'height': 100, 'number_of_floors': 2, 'address': '123 Main Street'}\n"
          ]
        }
      ]
    },
    {
      "cell_type": "markdown",
      "source": [
        "You'll be able to access specific values in a dictionary using the cooresponding key, with square bracket notation `[]`."
      ],
      "metadata": {
        "id": "5kKL_HBkVz0E"
      }
    },
    {
      "cell_type": "code",
      "source": [
        "# Get a value from a dictionary by its key\n",
        "building['height']"
      ],
      "metadata": {
        "colab": {
          "base_uri": "https://localhost:8080/"
        },
        "id": "l-rGFg2NVead",
        "outputId": "be31812f-2191-4520-ce18-17c8b3b21175"
      },
      "execution_count": 49,
      "outputs": [
        {
          "output_type": "execute_result",
          "data": {
            "text/plain": [
              "100"
            ]
          },
          "metadata": {},
          "execution_count": 49
        }
      ]
    },
    {
      "cell_type": "markdown",
      "source": [
        "And, like with lists, you can start empty and add to them."
      ],
      "metadata": {
        "id": "GwNhH7veWvM9"
      }
    },
    {
      "cell_type": "code",
      "source": [
        "empty_dict = {}\n",
        "print(f\"Here's a sad empty dictionary: {empty_dict}\")\n",
        "\n",
        "empty_dict['a_value'] = 100\n",
        "print(f\"Now that's something: {empty_dict}\")"
      ],
      "metadata": {
        "colab": {
          "base_uri": "https://localhost:8080/"
        },
        "id": "4_-n0qw9VzLF",
        "outputId": "6e1bc6d3-0d55-4114-986e-4ff36245af94"
      },
      "execution_count": 45,
      "outputs": [
        {
          "output_type": "stream",
          "name": "stdout",
          "text": [
            "Here's a sad empty dictionary: {}\n",
            "Now that's something: {'a_value': 100}\n"
          ]
        }
      ]
    },
    {
      "cell_type": "code",
      "source": [
        "# You can also combine dictionaries\n",
        "new_dict = {\n",
        "    'another_key': 20\n",
        "}\n",
        "empty_dict.update(new_dict)\n",
        "print(f\"Now this is definitely not empty: {empty_dict}\")"
      ],
      "metadata": {
        "colab": {
          "base_uri": "https://localhost:8080/"
        },
        "id": "2H2e6LEcW_sY",
        "outputId": "cb9834b2-80f4-4b82-c57a-2ab8d032a2e0"
      },
      "execution_count": 48,
      "outputs": [
        {
          "output_type": "stream",
          "name": "stdout",
          "text": [
            "Now this is definitely not empty: {'a_value': 100, 'another_key': 20}\n"
          ]
        }
      ]
    },
    {
      "cell_type": "markdown",
      "source": [
        "## Loops\n",
        "A `for` loop is a way to iterate and repeat code. The `for` defines how many repetitions occur, and what values change for each loop."
      ],
      "metadata": {
        "id": "vE2YMt_bXuNm"
      }
    },
    {
      "cell_type": "code",
      "source": [
        "# This loops over each number in the list\n",
        "list_of_four = [1, 2, 3, 4]\n",
        "for number in list_of_four:\n",
        "    print(number)"
      ],
      "metadata": {
        "colab": {
          "base_uri": "https://localhost:8080/"
        },
        "id": "AV_YY8UcXogV",
        "outputId": "d755986b-4e8b-4a39-9d65-2eaa51c104d4"
      },
      "execution_count": 51,
      "outputs": [
        {
          "output_type": "stream",
          "name": "stdout",
          "text": [
            "1\n",
            "2\n",
            "3\n",
            "4\n"
          ]
        }
      ]
    },
    {
      "cell_type": "markdown",
      "source": [
        "Here are a few common patterns you will encounter with `for` loops:"
      ],
      "metadata": {
        "id": "jk16YHz3YEzH"
      }
    },
    {
      "cell_type": "code",
      "source": [
        "# You can loop over a sequential list of integers using range()\n",
        "# This counts up by 1, starting from 0 and ending before the proviided arguement\n",
        "for number in range(10):\n",
        "    print(number)"
      ],
      "metadata": {
        "colab": {
          "base_uri": "https://localhost:8080/"
        },
        "id": "fhK_5K4JYeuy",
        "outputId": "0c720211-5fd2-4378-9463-5d0d816d81ed"
      },
      "execution_count": 57,
      "outputs": [
        {
          "output_type": "stream",
          "name": "stdout",
          "text": [
            "0\n",
            "1\n",
            "2\n",
            "3\n",
            "4\n",
            "5\n",
            "6\n",
            "7\n",
            "8\n",
            "9\n"
          ]
        }
      ]
    },
    {
      "cell_type": "code",
      "source": [
        "# This counts up from the first arguement and ending before the second arguement\n",
        "for number in range(4, 8):\n",
        "    print(number)"
      ],
      "metadata": {
        "colab": {
          "base_uri": "https://localhost:8080/"
        },
        "id": "uhlcNCp6YjJH",
        "outputId": "ebeab737-929d-4217-eece-1ca793924525"
      },
      "execution_count": 61,
      "outputs": [
        {
          "output_type": "stream",
          "name": "stdout",
          "text": [
            "4\n",
            "5\n",
            "6\n",
            "7\n"
          ]
        }
      ]
    },
    {
      "cell_type": "code",
      "source": [
        "# You can loop over each key and value in a dictionary using .items()\n",
        "some_dictionary = {\n",
        "    'key_1': 1,\n",
        "    'key_2': ['a', 'b', 'c'],\n",
        "    'key_3': 'more stuff'\n",
        "}\n",
        "\n",
        "for key, value in some_dictionary.items():\n",
        "    print(key, value)"
      ],
      "metadata": {
        "colab": {
          "base_uri": "https://localhost:8080/"
        },
        "id": "X2mzotIhYEYv",
        "outputId": "f493f71f-8fa2-4468-e7f5-e20a9900eeb0"
      },
      "execution_count": 60,
      "outputs": [
        {
          "output_type": "stream",
          "name": "stdout",
          "text": [
            "key_1 1\n",
            "key_2 ['a', 'b', 'c']\n",
            "key_3 more stuff\n"
          ]
        }
      ]
    },
    {
      "cell_type": "code",
      "source": [
        "# You can loop over just the keys\n",
        "for key in some_dictionary.keys():\n",
        "    print(key)"
      ],
      "metadata": {
        "colab": {
          "base_uri": "https://localhost:8080/"
        },
        "id": "nY7UPcpQXOb1",
        "outputId": "5bab5956-83ec-4379-861b-e7f1ec7e2146"
      },
      "execution_count": 55,
      "outputs": [
        {
          "output_type": "stream",
          "name": "stdout",
          "text": [
            "key_1\n",
            "key_2\n",
            "key_3\n"
          ]
        }
      ]
    },
    {
      "cell_type": "code",
      "source": [
        "# You can loop over just the values\n",
        "for key in some_dictionary.values():\n",
        "    print(key)"
      ],
      "metadata": {
        "colab": {
          "base_uri": "https://localhost:8080/"
        },
        "id": "8Sl6d0xyYb0V",
        "outputId": "2bf9309f-561e-4596-b441-99b1a18364ce"
      },
      "execution_count": 56,
      "outputs": [
        {
          "output_type": "stream",
          "name": "stdout",
          "text": [
            "1\n",
            "['a', 'b', 'c']\n",
            "more stuff\n"
          ]
        }
      ]
    },
    {
      "cell_type": "code",
      "source": [
        "# You can loop over anything, and get a counter for the loop using enumerate()\n",
        "some_list = ['foo', 0]\n",
        "\n",
        "for i, item in enumerate(some_list):\n",
        "    print(f\"In the {i}-th loop, we get item: {item}\")"
      ],
      "metadata": {
        "colab": {
          "base_uri": "https://localhost:8080/"
        },
        "id": "5vqa3EWYYdw3",
        "outputId": "199460cf-c927-429d-8ab9-39fd95762f13"
      },
      "execution_count": 62,
      "outputs": [
        {
          "output_type": "stream",
          "name": "stdout",
          "text": [
            "In the 0-th loop, we get item: foo\n",
            "In the 1-th loop, we get item: 0\n"
          ]
        }
      ]
    },
    {
      "cell_type": "markdown",
      "source": [
        "## Conditionals\n",
        "Conditionals are `if`, `elif`, and `else` statements. These provide basic logic control in code. A nice attribute of Python is that conditionals and other patterns are intentionally human readable — you can scan a conditional and generally get a feel for the behavior.\n"
      ],
      "metadata": {
        "id": "qzWuDsrlZo83"
      }
    },
    {
      "cell_type": "code",
      "source": [
        "# Can you guess which print statement will occure before running the code?\n",
        "some_value = 1000\n",
        "\n",
        "if some_value > 1_000_000:\n",
        "    print(f'This value {some_value} is larger than one million')\n",
        "elif some_value < 0:\n",
        "    print(f'This value {some_value} is negative')\n",
        "else:\n",
        "    print(f'Thiee value {some_value} is between zero and one million')"
      ],
      "metadata": {
        "colab": {
          "base_uri": "https://localhost:8080/"
        },
        "id": "K63-ubD6Yua9",
        "outputId": "16687c21-471d-4715-8c40-ae3d022f7cd0"
      },
      "execution_count": 67,
      "outputs": [
        {
          "output_type": "stream",
          "name": "stdout",
          "text": [
            "Thiee value 1000 is between zero and one million\n"
          ]
        }
      ]
    },
    {
      "cell_type": "markdown",
      "source": [
        "Each `if` or `elif` statement contains a logic check that returns `True` or `False`. The code that runs based on that check being `True` must be indented.\n",
        "\n",
        "You can check for multiple conditions by first using an `if` statment then `elif` (short for \"else if\") statements. An `else` block only runs if known of the above conditions are met. Think of this as the fallback; statements are evaluated from top to bottom, and the first one that returns `True` is evauated."
      ],
      "metadata": {
        "id": "9-kKTaeqbAvm"
      }
    },
    {
      "cell_type": "markdown",
      "source": [
        "## Functions\n",
        "Finally, functions are nice way to wrap up code for re-use. A function must first be defined with a `def` statement.\n",
        "\n",
        "Functions run a block of code. They _may_ take in input (known as arguments) and/or return output(s). They may do neither — in which case they simply  run code."
      ],
      "metadata": {
        "id": "wj4XwdqpbnHa"
      }
    },
    {
      "cell_type": "code",
      "source": [
        "# Here's a basic function that takes 2 input arguments\n",
        "# And returns a single output\n",
        "def a_function_that_adds(a, b):\n",
        "    return a + b\n",
        "\n",
        "# You can call a function like so\n",
        "# Can you guess what the result should be?\n",
        "a_function_that_adds(100, 200)"
      ],
      "metadata": {
        "colab": {
          "base_uri": "https://localhost:8080/"
        },
        "id": "cWv71gVDa6Y5",
        "outputId": "13a945c8-bce0-432a-b17f-79bcbcd807bb"
      },
      "execution_count": 69,
      "outputs": [
        {
          "output_type": "execute_result",
          "data": {
            "text/plain": [
              "300"
            ]
          },
          "metadata": {},
          "execution_count": 69
        }
      ]
    },
    {
      "cell_type": "code",
      "source": [
        "# And you can directly assign the output of a function to a variable\n",
        "c = a_function_that_adds(a, b)\n",
        "print(f\"The value of c is: {c}\")"
      ],
      "metadata": {
        "colab": {
          "base_uri": "https://localhost:8080/"
        },
        "id": "o2V-PY0bcAhc",
        "outputId": "e182c407-ae09-4ecc-89b1-c15219987b88"
      },
      "execution_count": 70,
      "outputs": [
        {
          "output_type": "stream",
          "name": "stdout",
          "text": [
            "The value of c is: 110\n"
          ]
        }
      ]
    },
    {
      "cell_type": "code",
      "source": [
        "# Here's a function that neither take in any inputs or returns any  outputs\n",
        "def a_function_that_just_runs():\n",
        "    print(\"Just saying hi!\")\n",
        "\n",
        "a_function_that_just_runs()"
      ],
      "metadata": {
        "colab": {
          "base_uri": "https://localhost:8080/"
        },
        "id": "SIIYCnAHcWd6",
        "outputId": "3ffa29f9-8b2a-474b-da03-cd833375ef48"
      },
      "execution_count": 73,
      "outputs": [
        {
          "output_type": "stream",
          "name": "stdout",
          "text": [
            "Just saying hi!\n"
          ]
        }
      ]
    },
    {
      "cell_type": "markdown",
      "source": [
        "# A puzzle\n",
        "OK! Let's put all this knowledge to use.\n",
        "\n",
        "Imagine you have colleected data about four buildings. For each building, you have the number of floors, an address, and the average floor area of a single floor.\n",
        "\n",
        "Something like this:\n",
        "\n",
        "| address | number of floors | average floor area |\n",
        "| ---- | ---- | ---- |\n",
        "| 123 Main Street | 25 | 1000 |\n",
        "| 26 Broadway | 18 | 2000 |\n",
        "| 1 Electric Avenue | 15 | 770 |\n",
        "| 9 Wall Street | 50 | 900 |\n",
        "\n",
        "For your first challenge: can you calculate:\n",
        "- the total floor area for each buildinig?\n",
        "- the total floor area for all buildings?\n",
        "- the average number of floors across all four buildings?\n",
        "- the average floor area for a single floor across all buildings?"
      ],
      "metadata": {
        "id": "gUQ7jU_Zc2to"
      }
    },
    {
      "cell_type": "code",
      "source": [
        "# Try it out with code here!"
      ],
      "metadata": {
        "id": "w7Xy6Xfoce1t"
      },
      "execution_count": null,
      "outputs": []
    },
    {
      "cell_type": "markdown",
      "source": [
        "Imagine you've got data about a new building! Can you re-calculate the above, adding in:\n",
        "\n",
        "| address | number of floors | average floor area |\n",
        "| ---- | ---- | ---- |\n",
        "| 99 West Side Highway | 32 | 500 |"
      ],
      "metadata": {
        "id": "F-3K2mFteFbL"
      }
    },
    {
      "cell_type": "code",
      "source": [
        "# Try it out with code here!"
      ],
      "metadata": {
        "id": "AnzBRVwNeFwR"
      },
      "execution_count": null,
      "outputs": []
    },
    {
      "cell_type": "markdown",
      "source": [
        "Lastly, assume each floor on average is 12 feet high.\n",
        "\n",
        "What is the address of each builiding that is more than 90 feet tall?"
      ],
      "metadata": {
        "id": "bgZLL4yaear1"
      }
    },
    {
      "cell_type": "code",
      "source": [
        "# Try it out with code here!"
      ],
      "metadata": {
        "id": "KOWF-D5DeaQd"
      },
      "execution_count": null,
      "outputs": []
    }
  ]
}